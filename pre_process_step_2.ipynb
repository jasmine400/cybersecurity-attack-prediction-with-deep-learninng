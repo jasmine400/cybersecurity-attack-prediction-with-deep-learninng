{
  "cells": [
    {
      "cell_type": "markdown",
      "metadata": {
        "id": "view-in-github",
        "colab_type": "text"
      },
      "source": [
        "<a href=\"https://colab.research.google.com/github/jasmine400/cybersecurity-attack-prediction-with-deep-learninng/blob/main/pre_process_step_2.ipynb\" target=\"_parent\"><img src=\"https://colab.research.google.com/assets/colab-badge.svg\" alt=\"Open In Colab\"/></a>"
      ]
    },
    {
      "cell_type": "code",
      "execution_count": null,
      "metadata": {
        "colab": {
          "base_uri": "https://localhost:8080/"
        },
        "id": "3eOD4JYV5nDF",
        "outputId": "766a92dc-54fc-48d6-821a-678a46dde347"
      },
      "outputs": [
        {
          "name": "stdout",
          "output_type": "stream",
          "text": [
            "Thu Apr  7 12:02:27 2022       \n",
            "+-----------------------------------------------------------------------------+\n",
            "| NVIDIA-SMI 460.32.03    Driver Version: 460.32.03    CUDA Version: 11.2     |\n",
            "|-------------------------------+----------------------+----------------------+\n",
            "| GPU  Name        Persistence-M| Bus-Id        Disp.A | Volatile Uncorr. ECC |\n",
            "| Fan  Temp  Perf  Pwr:Usage/Cap|         Memory-Usage | GPU-Util  Compute M. |\n",
            "|                               |                      |               MIG M. |\n",
            "|===============================+======================+======================|\n",
            "|   0  Tesla K80           Off  | 00000000:00:04.0 Off |                    0 |\n",
            "| N/A   42C    P8    27W / 149W |      0MiB / 11441MiB |      0%      Default |\n",
            "|                               |                      |                  N/A |\n",
            "+-------------------------------+----------------------+----------------------+\n",
            "                                                                               \n",
            "+-----------------------------------------------------------------------------+\n",
            "| Processes:                                                                  |\n",
            "|  GPU   GI   CI        PID   Type   Process name                  GPU Memory |\n",
            "|        ID   ID                                                   Usage      |\n",
            "|=============================================================================|\n",
            "|  No running processes found                                                 |\n",
            "+-----------------------------------------------------------------------------+\n"
          ]
        }
      ],
      "source": [
        "!nvidia-smi"
      ]
    },
    {
      "cell_type": "code",
      "execution_count": null,
      "metadata": {
        "colab": {
          "base_uri": "https://localhost:8080/"
        },
        "id": "GlN0saK05n_L",
        "outputId": "8d90a548-4ddf-4baf-c81f-861de9b37f97"
      },
      "outputs": [
        {
          "data": {
            "text/plain": [
              "True"
            ]
          },
          "execution_count": 2,
          "metadata": {},
          "output_type": "execute_result"
        }
      ],
      "source": [
        "import torch\n",
        "torch.cuda.is_available()"
      ]
    },
    {
      "cell_type": "code",
      "execution_count": null,
      "metadata": {
        "colab": {
          "base_uri": "https://localhost:8080/"
        },
        "id": "wIdEuhUt5pzp",
        "outputId": "dd8151d0-feef-433f-ab6a-da860a013204"
      },
      "outputs": [
        {
          "name": "stdout",
          "output_type": "stream",
          "text": [
            "device: cuda:0\n",
            "CUDA is available!  Training on GPU ...\n"
          ]
        }
      ],
      "source": [
        "#check if gpu is on\n",
        "device = torch.device(\"cuda:0\" if torch.cuda.is_available() else \"cpu\")\n",
        "print(f'device: {device}')\n",
        "\n",
        "train_on_gpu = torch.cuda.is_available()\n",
        "\n",
        "if not train_on_gpu:\n",
        "    print('CUDA is not available.  Training on CPU ...')\n",
        "else:\n",
        "    print('CUDA is available!  Training on GPU ...')"
      ]
    },
    {
      "cell_type": "code",
      "execution_count": null,
      "metadata": {
        "colab": {
          "base_uri": "https://localhost:8080/"
        },
        "id": "jzA5SMU95tAg",
        "outputId": "67cf7837-aa28-4a4a-875f-5b76ea9b2e56"
      },
      "outputs": [
        {
          "name": "stdout",
          "output_type": "stream",
          "text": [
            "Thu Apr  7 12:02:45 2022       \n",
            "+-----------------------------------------------------------------------------+\n",
            "| NVIDIA-SMI 460.32.03    Driver Version: 460.32.03    CUDA Version: 11.2     |\n",
            "|-------------------------------+----------------------+----------------------+\n",
            "| GPU  Name        Persistence-M| Bus-Id        Disp.A | Volatile Uncorr. ECC |\n",
            "| Fan  Temp  Perf  Pwr:Usage/Cap|         Memory-Usage | GPU-Util  Compute M. |\n",
            "|                               |                      |               MIG M. |\n",
            "|===============================+======================+======================|\n",
            "|   0  Tesla K80           Off  | 00000000:00:04.0 Off |                    0 |\n",
            "| N/A   41C    P8    27W / 149W |      3MiB / 11441MiB |      0%      Default |\n",
            "|                               |                      |                  N/A |\n",
            "+-------------------------------+----------------------+----------------------+\n",
            "                                                                               \n",
            "+-----------------------------------------------------------------------------+\n",
            "| Processes:                                                                  |\n",
            "|  GPU   GI   CI        PID   Type   Process name                  GPU Memory |\n",
            "|        ID   ID                                                   Usage      |\n",
            "|=============================================================================|\n",
            "|  No running processes found                                                 |\n",
            "+-----------------------------------------------------------------------------+\n"
          ]
        }
      ],
      "source": [
        "#clear memory\n",
        "import torch, gc\n",
        "\n",
        "gc.collect()\n",
        "torch.cuda.empty_cache()\n",
        "\n",
        "!nvidia-smi"
      ]
    },
    {
      "cell_type": "code",
      "execution_count": null,
      "metadata": {
        "colab": {
          "base_uri": "https://localhost:8080/"
        },
        "id": "MjvJYQ6m7GkB",
        "outputId": "c1c00523-e70c-450c-fd6c-abba88010360"
      },
      "outputs": [
        {
          "output_type": "stream",
          "name": "stdout",
          "text": [
            "Collecting OTXv2\n",
            "  Downloading OTXv2-1.5.12-py3-none-any.whl (16 kB)\n",
            "Requirement already satisfied: pytz in /usr/local/lib/python3.7/dist-packages (from OTXv2) (2018.9)\n",
            "Requirement already satisfied: requests in /usr/local/lib/python3.7/dist-packages (from OTXv2) (2.23.0)\n",
            "Requirement already satisfied: python-dateutil in /usr/local/lib/python3.7/dist-packages (from OTXv2) (2.8.2)\n",
            "Requirement already satisfied: six>=1.5 in /usr/local/lib/python3.7/dist-packages (from python-dateutil->OTXv2) (1.15.0)\n",
            "Requirement already satisfied: idna<3,>=2.5 in /usr/local/lib/python3.7/dist-packages (from requests->OTXv2) (2.10)\n",
            "Requirement already satisfied: certifi>=2017.4.17 in /usr/local/lib/python3.7/dist-packages (from requests->OTXv2) (2021.10.8)\n",
            "Requirement already satisfied: chardet<4,>=3.0.2 in /usr/local/lib/python3.7/dist-packages (from requests->OTXv2) (3.0.4)\n",
            "Requirement already satisfied: urllib3!=1.25.0,!=1.25.1,<1.26,>=1.21.1 in /usr/local/lib/python3.7/dist-packages (from requests->OTXv2) (1.24.3)\n",
            "Installing collected packages: OTXv2\n",
            "Successfully installed OTXv2-1.5.12\n"
          ]
        }
      ],
      "source": [
        "pip install OTXv2"
      ]
    },
    {
      "cell_type": "code",
      "execution_count": null,
      "metadata": {
        "id": "H7kQdyEh7RNU"
      },
      "outputs": [],
      "source": [
        "from OTXv2 import OTXv2, IndicatorTypes"
      ]
    },
    {
      "cell_type": "code",
      "execution_count": null,
      "metadata": {
        "id": "Bk4-hMBo7VWa"
      },
      "outputs": [],
      "source": [
        "import pandas\n",
        "from pandas.io.json import json_normalize\n",
        "from datetime import datetime, timedelta\n",
        "import pandas as pd"
      ]
    },
    {
      "cell_type": "code",
      "execution_count": null,
      "metadata": {
        "id": "mT_G8o_g7Xyq"
      },
      "outputs": [],
      "source": [
        "otx = OTXv2(\"\")"
      ]
    },
    {
      "cell_type": "code",
      "execution_count": null,
      "metadata": {
        "id": "VGFF9SUn7fHy"
      },
      "outputs": [],
      "source": [
        "indicators=otx.get_all_indicators(limit=100000,max_page=4)"
      ]
    },
    {
      "cell_type": "code",
      "execution_count": null,
      "metadata": {
        "id": "hpI1vTM-7g9J"
      },
      "outputs": [],
      "source": [
        "indicators=list(indicators)"
      ]
    },
    {
      "cell_type": "code",
      "execution_count": null,
      "metadata": {
        "id": "jR9UZIG87ikK"
      },
      "outputs": [],
      "source": [
        "df = pd.DataFrame(indicators)"
      ]
    },
    {
      "cell_type": "code",
      "execution_count": null,
      "metadata": {
        "colab": {
          "base_uri": "https://localhost:8080/"
        },
        "id": "FrXQ-ABd7jHT",
        "outputId": "a850d89a-8578-4426-e892-057d042186bc"
      },
      "outputs": [
        {
          "output_type": "stream",
          "name": "stdout",
          "text": [
            "360361\n"
          ]
        }
      ],
      "source": [
        "print(len(df))"
      ]
    },
    {
      "cell_type": "code",
      "execution_count": null,
      "metadata": {
        "id": "Lb1DmeQx7muv"
      },
      "outputs": [],
      "source": [
        "ipv4_indicators = df[df['type'] == \"IPv4\"]"
      ]
    },
    {
      "cell_type": "code",
      "execution_count": null,
      "metadata": {
        "colab": {
          "base_uri": "https://localhost:8080/",
          "height": 250
        },
        "id": "6Syiki0xrkz_",
        "outputId": "36020876-a315-40f0-a357-d4ec17621905"
      },
      "outputs": [
        {
          "output_type": "execute_result",
          "data": {
            "text/plain": [
              "      id        indicator  type              created content  \\\n",
              "0  20601     71.6.165.200  IPv4  2022-03-27T16:42:07           \n",
              "1  32836     71.6.167.142  IPv4  2022-03-28T18:55:23           \n",
              "2  33527     222.73.56.10  IPv4  2022-03-21T21:17:40           \n",
              "3  33836  184.105.247.196  IPv4  2022-03-25T05:26:18           \n",
              "4  33851     71.6.135.131  IPv4  2022-03-22T03:38:37           \n",
              "\n",
              "                                title description           expiration  \\\n",
              "0    CAS-W: TCP-Scanner. Port: 23 (3)              2022-07-19T00:00:00   \n",
              "1       LT: TCP-Scanner. Port: 22 (4)              2022-07-22T00:00:00   \n",
              "2        DIS: Brutforce ssh Login (5)              2022-07-16T00:00:00   \n",
              "3  GIZ-W: TCP-Scanner. Port: 5900 (2)              2022-07-14T00:00:00   \n",
              "4    GIZ-W: TCP-Scanner. Port: 23 (8)              2022-07-23T00:00:00   \n",
              "\n",
              "   is_active           role  \n",
              "0          1  scanning_host  \n",
              "1          1  scanning_host  \n",
              "2          1     bruteforce  \n",
              "3          1  scanning_host  \n",
              "4          1  scanning_host  "
            ],
            "text/html": [
              "\n",
              "  <div id=\"df-89b8d385-c1ef-4a92-90f8-ae70d3b2157b\">\n",
              "    <div class=\"colab-df-container\">\n",
              "      <div>\n",
              "<style scoped>\n",
              "    .dataframe tbody tr th:only-of-type {\n",
              "        vertical-align: middle;\n",
              "    }\n",
              "\n",
              "    .dataframe tbody tr th {\n",
              "        vertical-align: top;\n",
              "    }\n",
              "\n",
              "    .dataframe thead th {\n",
              "        text-align: right;\n",
              "    }\n",
              "</style>\n",
              "<table border=\"1\" class=\"dataframe\">\n",
              "  <thead>\n",
              "    <tr style=\"text-align: right;\">\n",
              "      <th></th>\n",
              "      <th>id</th>\n",
              "      <th>indicator</th>\n",
              "      <th>type</th>\n",
              "      <th>created</th>\n",
              "      <th>content</th>\n",
              "      <th>title</th>\n",
              "      <th>description</th>\n",
              "      <th>expiration</th>\n",
              "      <th>is_active</th>\n",
              "      <th>role</th>\n",
              "    </tr>\n",
              "  </thead>\n",
              "  <tbody>\n",
              "    <tr>\n",
              "      <th>0</th>\n",
              "      <td>20601</td>\n",
              "      <td>71.6.165.200</td>\n",
              "      <td>IPv4</td>\n",
              "      <td>2022-03-27T16:42:07</td>\n",
              "      <td></td>\n",
              "      <td>CAS-W: TCP-Scanner. Port: 23 (3)</td>\n",
              "      <td></td>\n",
              "      <td>2022-07-19T00:00:00</td>\n",
              "      <td>1</td>\n",
              "      <td>scanning_host</td>\n",
              "    </tr>\n",
              "    <tr>\n",
              "      <th>1</th>\n",
              "      <td>32836</td>\n",
              "      <td>71.6.167.142</td>\n",
              "      <td>IPv4</td>\n",
              "      <td>2022-03-28T18:55:23</td>\n",
              "      <td></td>\n",
              "      <td>LT: TCP-Scanner. Port: 22 (4)</td>\n",
              "      <td></td>\n",
              "      <td>2022-07-22T00:00:00</td>\n",
              "      <td>1</td>\n",
              "      <td>scanning_host</td>\n",
              "    </tr>\n",
              "    <tr>\n",
              "      <th>2</th>\n",
              "      <td>33527</td>\n",
              "      <td>222.73.56.10</td>\n",
              "      <td>IPv4</td>\n",
              "      <td>2022-03-21T21:17:40</td>\n",
              "      <td></td>\n",
              "      <td>DIS: Brutforce ssh Login (5)</td>\n",
              "      <td></td>\n",
              "      <td>2022-07-16T00:00:00</td>\n",
              "      <td>1</td>\n",
              "      <td>bruteforce</td>\n",
              "    </tr>\n",
              "    <tr>\n",
              "      <th>3</th>\n",
              "      <td>33836</td>\n",
              "      <td>184.105.247.196</td>\n",
              "      <td>IPv4</td>\n",
              "      <td>2022-03-25T05:26:18</td>\n",
              "      <td></td>\n",
              "      <td>GIZ-W: TCP-Scanner. Port: 5900 (2)</td>\n",
              "      <td></td>\n",
              "      <td>2022-07-14T00:00:00</td>\n",
              "      <td>1</td>\n",
              "      <td>scanning_host</td>\n",
              "    </tr>\n",
              "    <tr>\n",
              "      <th>4</th>\n",
              "      <td>33851</td>\n",
              "      <td>71.6.135.131</td>\n",
              "      <td>IPv4</td>\n",
              "      <td>2022-03-22T03:38:37</td>\n",
              "      <td></td>\n",
              "      <td>GIZ-W: TCP-Scanner. Port: 23 (8)</td>\n",
              "      <td></td>\n",
              "      <td>2022-07-23T00:00:00</td>\n",
              "      <td>1</td>\n",
              "      <td>scanning_host</td>\n",
              "    </tr>\n",
              "  </tbody>\n",
              "</table>\n",
              "</div>\n",
              "      <button class=\"colab-df-convert\" onclick=\"convertToInteractive('df-89b8d385-c1ef-4a92-90f8-ae70d3b2157b')\"\n",
              "              title=\"Convert this dataframe to an interactive table.\"\n",
              "              style=\"display:none;\">\n",
              "        \n",
              "  <svg xmlns=\"http://www.w3.org/2000/svg\" height=\"24px\"viewBox=\"0 0 24 24\"\n",
              "       width=\"24px\">\n",
              "    <path d=\"M0 0h24v24H0V0z\" fill=\"none\"/>\n",
              "    <path d=\"M18.56 5.44l.94 2.06.94-2.06 2.06-.94-2.06-.94-.94-2.06-.94 2.06-2.06.94zm-11 1L8.5 8.5l.94-2.06 2.06-.94-2.06-.94L8.5 2.5l-.94 2.06-2.06.94zm10 10l.94 2.06.94-2.06 2.06-.94-2.06-.94-.94-2.06-.94 2.06-2.06.94z\"/><path d=\"M17.41 7.96l-1.37-1.37c-.4-.4-.92-.59-1.43-.59-.52 0-1.04.2-1.43.59L10.3 9.45l-7.72 7.72c-.78.78-.78 2.05 0 2.83L4 21.41c.39.39.9.59 1.41.59.51 0 1.02-.2 1.41-.59l7.78-7.78 2.81-2.81c.8-.78.8-2.07 0-2.86zM5.41 20L4 18.59l7.72-7.72 1.47 1.35L5.41 20z\"/>\n",
              "  </svg>\n",
              "      </button>\n",
              "      \n",
              "  <style>\n",
              "    .colab-df-container {\n",
              "      display:flex;\n",
              "      flex-wrap:wrap;\n",
              "      gap: 12px;\n",
              "    }\n",
              "\n",
              "    .colab-df-convert {\n",
              "      background-color: #E8F0FE;\n",
              "      border: none;\n",
              "      border-radius: 50%;\n",
              "      cursor: pointer;\n",
              "      display: none;\n",
              "      fill: #1967D2;\n",
              "      height: 32px;\n",
              "      padding: 0 0 0 0;\n",
              "      width: 32px;\n",
              "    }\n",
              "\n",
              "    .colab-df-convert:hover {\n",
              "      background-color: #E2EBFA;\n",
              "      box-shadow: 0px 1px 2px rgba(60, 64, 67, 0.3), 0px 1px 3px 1px rgba(60, 64, 67, 0.15);\n",
              "      fill: #174EA6;\n",
              "    }\n",
              "\n",
              "    [theme=dark] .colab-df-convert {\n",
              "      background-color: #3B4455;\n",
              "      fill: #D2E3FC;\n",
              "    }\n",
              "\n",
              "    [theme=dark] .colab-df-convert:hover {\n",
              "      background-color: #434B5C;\n",
              "      box-shadow: 0px 1px 3px 1px rgba(0, 0, 0, 0.15);\n",
              "      filter: drop-shadow(0px 1px 2px rgba(0, 0, 0, 0.3));\n",
              "      fill: #FFFFFF;\n",
              "    }\n",
              "  </style>\n",
              "\n",
              "      <script>\n",
              "        const buttonEl =\n",
              "          document.querySelector('#df-89b8d385-c1ef-4a92-90f8-ae70d3b2157b button.colab-df-convert');\n",
              "        buttonEl.style.display =\n",
              "          google.colab.kernel.accessAllowed ? 'block' : 'none';\n",
              "\n",
              "        async function convertToInteractive(key) {\n",
              "          const element = document.querySelector('#df-89b8d385-c1ef-4a92-90f8-ae70d3b2157b');\n",
              "          const dataTable =\n",
              "            await google.colab.kernel.invokeFunction('convertToInteractive',\n",
              "                                                     [key], {});\n",
              "          if (!dataTable) return;\n",
              "\n",
              "          const docLinkHtml = 'Like what you see? Visit the ' +\n",
              "            '<a target=\"_blank\" href=https://colab.research.google.com/notebooks/data_table.ipynb>data table notebook</a>'\n",
              "            + ' to learn more about interactive tables.';\n",
              "          element.innerHTML = '';\n",
              "          dataTable['output_type'] = 'display_data';\n",
              "          await google.colab.output.renderOutput(dataTable, element);\n",
              "          const docLink = document.createElement('div');\n",
              "          docLink.innerHTML = docLinkHtml;\n",
              "          element.appendChild(docLink);\n",
              "        }\n",
              "      </script>\n",
              "    </div>\n",
              "  </div>\n",
              "  "
            ]
          },
          "metadata": {},
          "execution_count": 10
        }
      ],
      "source": [
        "ipv4_indicators.head()"
      ]
    },
    {
      "cell_type": "code",
      "execution_count": null,
      "metadata": {
        "id": "e-1J8N8IrzbA"
      },
      "outputs": [],
      "source": [
        "Name_list = ipv4_indicators[\"indicator\"].tolist()"
      ]
    },
    {
      "cell_type": "code",
      "execution_count": null,
      "metadata": {
        "id": "CcewLfTpr9E3"
      },
      "outputs": [],
      "source": [
        "ipv4_indicators_uniq=list(set(Name_list))"
      ]
    },
    {
      "cell_type": "code",
      "execution_count": null,
      "metadata": {
        "colab": {
          "base_uri": "https://localhost:8080/"
        },
        "id": "YrowKaw0sD-O",
        "outputId": "24785807-b612-4216-a60b-1d4c000644a7"
      },
      "outputs": [
        {
          "output_type": "stream",
          "name": "stdout",
          "text": [
            "107992\n"
          ]
        }
      ],
      "source": [
        "print(len(ipv4_indicators_uniq))"
      ]
    },
    {
      "cell_type": "markdown",
      "metadata": {
        "id": "eiLGU4xO7ur5"
      },
      "source": [
        "group   events by indicators"
      ]
    },
    {
      "cell_type": "code",
      "execution_count": null,
      "metadata": {
        "id": "_tUrPakn7rHp"
      },
      "outputs": [],
      "source": [
        "gk = ipv4_indicators.groupby('indicator')"
      ]
    },
    {
      "cell_type": "code",
      "execution_count": null,
      "metadata": {
        "colab": {
          "base_uri": "https://localhost:8080/"
        },
        "id": "h8qCJBUz73iy",
        "outputId": "6b000b31-1169-4413-b009-6764c3ea80ee"
      },
      "outputs": [
        {
          "output_type": "stream",
          "name": "stdout",
          "text": [
            "107992\n"
          ]
        }
      ],
      "source": [
        "print(len(gk))"
      ]
    },
    {
      "cell_type": "code",
      "execution_count": null,
      "metadata": {
        "id": "w93QB9aX744t",
        "colab": {
          "base_uri": "https://localhost:8080/"
        },
        "outputId": "1423fe5b-b336-45e1-9d21-a81f1bddaabd"
      },
      "outputs": [
        {
          "output_type": "stream",
          "name": "stdout",
          "text": [
            "['1.15.175.127', '1.234.58.220']\n"
          ]
        }
      ],
      "source": [
        "unq1=[0,0]\n",
        "size=gk.size()\n",
        "sz = size.to_frame()\n",
        "sz = sz.reset_index(level=0)\n",
        "selected_indi=sz. loc[sz[0] == 8]\n",
        "# selected_indi.head()\n",
        "# tt=selected_indi.iat[0,0]\n",
        "# print(tt)\n",
        "# print(type(tt))\n",
        "unq1[0]=selected_indi.iat[0,0]\n",
        "unq1[1]=selected_indi.iat[1,0]\n",
        "print(unq1)"
      ]
    },
    {
      "cell_type": "code",
      "execution_count": null,
      "metadata": {
        "colab": {
          "base_uri": "https://localhost:8080/"
        },
        "id": "kbpcNeEt76MT",
        "outputId": "113cf7fc-0b0e-4c7d-dc8b-4f01acd5c339"
      },
      "outputs": [
        {
          "data": {
            "text/plain": [
              "indicator\n",
              "1.12.255.18       7\n",
              "1.14.69.182       7\n",
              "1.15.175.127      7\n",
              "1.204.71.210      7\n",
              "1.214.245.27      7\n",
              "                 ..\n",
              "96.78.175.37      7\n",
              "98.128.172.193    7\n",
              "98.142.141.184    8\n",
              "98.152.112.54     8\n",
              "98.195.176.219    7\n",
              "Length: 3765, dtype: int64"
            ]
          },
          "execution_count": 25,
          "metadata": {},
          "output_type": "execute_result"
        }
      ],
      "source": [
        "size[size>6]"
      ]
    },
    {
      "cell_type": "code",
      "execution_count": null,
      "metadata": {
        "id": "AlBABswu78bC"
      },
      "outputs": [],
      "source": [
        "# unq= ipv4_indicators_uniq\n",
        "unq=['1.15.175.127','1.234.58.220']"
      ]
    },
    {
      "cell_type": "code",
      "execution_count": null,
      "metadata": {
        "colab": {
          "base_uri": "https://localhost:8080/",
          "height": 87,
          "referenced_widgets": [
            "165d84abccda4d3b9eca8a318ea9bbdb",
            "3eef443575004f3bbb025fdab74720cf",
            "1208328cd94942e4be5755b4a8d3ec48",
            "237668b99346403eb90b376de86ff45d",
            "a7d1339208c24a07a1f04e2badaed3ad",
            "2ea0446d92174b96a7d746efa7afbed4",
            "5686805359fc447a8a064e9dc2c7b5e5",
            "67fa5f24641046b7afb8a8a6bd3dec65",
            "9f0ff7477673497390c5b48e914a75c8",
            "044fb3feb9364b3b96c582434ec3e33b",
            "e5a4f847f2334efca48a52f9781073cb"
          ]
        },
        "id": "90RlvVVe8HtE",
        "outputId": "82ce2d48-42b4-44c3-b3b9-3574eb6efef4"
      },
      "outputs": [
        {
          "output_type": "display_data",
          "data": {
            "text/plain": [
              "  0%|          | 0/2 [00:00<?, ?it/s]"
            ],
            "application/vnd.jupyter.widget-view+json": {
              "version_major": 2,
              "version_minor": 0,
              "model_id": "165d84abccda4d3b9eca8a318ea9bbdb"
            }
          },
          "metadata": {}
        },
        {
          "output_type": "stream",
          "name": "stdout",
          "text": [
            "[{'1.15.175.127': ['6237e03add4f862fc13dc7d3', '602bc528f447d628d41494f2', '60ece5998a5b54a5ffe75cb4', '621db66b1925e1de3361bff9', '622408868c0831c353d4901d', '622530119dde5708810bb5da', '6231ee27e6834a707de700ae', '624686ecf5d8cfa613a3c430', '624686ea4b644bef92992deb', '624f7b0bda7d6de7737d002e', '623aec53fe0e5289469ed60c', '623aec5035a3ac92a50307a2', '620d2b02cb060e1bd1aad8cc', '62327c7744d42b4525123814', '6230b93697f4af20515212fb', '620835fd721f345ba53eb906', '61fdbe0d540446ddc72b82cc', '61fbd7c91f2140ec427be980', '61f5b816ab1ca63a3f67712b', '60637f141cda4877a64d0872', '6196e4b4abff808deabdc776', '617381bbbefb2ec0927256d3', '6170debbc79a2f2386267bf9', '616cea3b78da308245afd8cb', '615f5a8314bf0f9120c50154', '615f5b503749c911868afe97', '615923bc51d45b884f136ebc', '614b9b69c9cddd5a296ce4ee', '5fef5b647be6e406857e1b59', '613479063b0e18560e948cd6', '613398073871f8e725534d85', '61062a651d9d095e4bdd9e45', '61062a6e2d64774370d534df', '611c4d88ead7b8e7e3b24a0c', '611afc02fd0dfedc6a6543c7', '61170783d7c1a5ae975756f6', '61170c3697e0af74eb5756ec', '6113130288e39e3a356e5616', '6111abb4e7f8de2abe33004c', '6110eb53788922fcb8fac828', '6109d882ef5965bbefd534df', '60dd92308b0f8479bd28cd2f', '60dd923581a12d6d7ab5ca2b', '60edd0bdd6ddd5ce5f1c8024', '60b5788ed2e705847555cffc', '60b57892e01928f3762fec78', '60d3fc3f888ec039f12132cc', '60d3be1ef652277a512132cc', '608c9a1cfa426c48b241d372', '608c9a1efa426c48b241d373']}, {'1.234.58.220': ['6237e03add4f862fc13dc7d3', '5de8ad9a8b95247cfa55def7', '602bc528f447d628d41494f2', '60ece5998a5b54a5ffe75cb4', '621db66b1925e1de3361bff9', '622408868c0831c353d4901d', '622530119dde5708810bb5da', '6231ee27e6834a707de700ae', '622f463ac202fb73baabde8b', '6254c108ab7a8eeeb13b74a6', '622bc53a07c858c43c0885f3', '624ccbc4d23166379aa6b1fc', '60edd0bdd6ddd5ce5f1c8024', '60fe624297771d84397c1985', '60fd0b3f58aedf16c78adea8', '60fa70e8bcc23fba5c7b9978', '60f91d24a3084a9075900d56', '60f7ca8036558c850b25eb5d', '60d90420ea8c627e8ed88c9f', '60f66f1a14102939d1887255', '60f54581a11914e048e00c85', '60f3f8dd6f4212fb8e46d0d6', '60f283c5aedad809d546d0d6', '60f13b24da623f67ff8d6d8c', '60efde9d5c1b811453a7d619', '60ee8d6f226bd64cebc38975', '60cf7d54f55605a64a6a42c1', '60ed4ecf1a893e3e5d293c0b', '60ebea575d61d568d0e75cb4', '60eac0f5b633beb0fda65b4d', '60e9410d331f9dae49e75cb4', '60e7fa1d2210bea326500085', '60e6d2fa7072170539d0c408', '60e59bc3fd07a0537c931c41', '60e41f228a7c83970ca38653', '6089ea75407597dc2173934d', '6089b93eae651bfd3f73934d', '608fabd905469c76026d9849', '608e5d3bd614af4783854936', '608dbf101fcdbe82f8791a98', '606e14965de65013471165e6', '606cf603ee83c831f8eac948', '608bb426c30a32b9896a2a71', '608a5e5cef050fcc1e731d54', '6089243ed22142fc8d6af713', '6087bc4f2bd4ce6bc0dfeccb', '608667e59537eabc87af74be', '6085cee9419cd34509e69ebc', '60650041872b54642a2ca00d', '6082e47bd7078048dcb273f3']}]\n"
          ]
        }
      ],
      "source": [
        "indicator_pulses=[]\n",
        "import json\n",
        "for i in tqdm_notebook(unq):\n",
        "  #print(i)\n",
        "  indi_info5=otx.get_indicator_details_full(IndicatorTypes.IPv4,i)\n",
        "  json_object = json.dumps(indi_info5, indent = 4)\n",
        "  final_dictionary = json.loads(json_object)\n",
        "  pulse_ids=[]\n",
        "  pulse_count=len(final_dictionary['general']['pulse_info']['pulses'])\n",
        "  for j in range(pulse_count):\n",
        "     pulse_ids.append(final_dictionary['general']['pulse_info']['pulses'][j]['id'])\n",
        "  # print(i)\n",
        "  a={}\n",
        "  a={i:pulse_ids}\n",
        "  indicator_pulses.append(a)\n",
        "  # print(pulse_ids)\n",
        "  # print(json_object)\n",
        "  # print(\"--------\")\n",
        "print(indicator_pulses)\n"
      ]
    },
    {
      "cell_type": "code",
      "execution_count": null,
      "metadata": {
        "colab": {
          "base_uri": "https://localhost:8080/"
        },
        "id": "Tcnns9xyyA3w",
        "outputId": "7080e08b-592f-4b8c-a450-8b74218d6a12"
      },
      "outputs": [
        {
          "output_type": "stream",
          "name": "stdout",
          "text": [
            "2\n"
          ]
        }
      ],
      "source": [
        "print(len(indicator_pulses))"
      ]
    },
    {
      "cell_type": "code",
      "execution_count": null,
      "metadata": {
        "colab": {
          "base_uri": "https://localhost:8080/"
        },
        "id": "xTVH6uN28Q9o",
        "outputId": "fe2292f0-a7c5-4f2d-e97a-7b2c2d72a611"
      },
      "outputs": [
        {
          "output_type": "stream",
          "name": "stdout",
          "text": [
            "{'1.15.175.127': [], '1.234.58.220': []}\n"
          ]
        }
      ],
      "source": [
        "kk={key: [] for key in unq}\n",
        "print(kk)"
      ]
    },
    {
      "cell_type": "code",
      "execution_count": null,
      "metadata": {
        "colab": {
          "base_uri": "https://localhost:8080/"
        },
        "id": "UYFZR9qf8Vci",
        "outputId": "9de2e184-560e-4b3a-cda8-e181961398d8"
      },
      "outputs": [
        {
          "output_type": "stream",
          "name": "stdout",
          "text": [
            "{'1.15.175.127': [{'id': 2964745680, 'indicator': '1.15.175.127', 'type': 'IPv4', 'created': '2022-03-31T09:31:41', 'content': '', 'title': 'HHV: Brutforce ssh Login (4)', 'description': '', 'expiration': '2022-07-18T00:00:00', 'is_active': 1, 'tag': ['Brutforce', 'Webattack', 'smtp', 'ssh', 'scanning', 'tcp', 'Scanner'], 'targeted_countries': ['Germany'], 'industries': ['Serverhosting', 'Technology']}, {'id': 2964745680, 'indicator': '1.15.175.127', 'type': 'IPv4', 'created': '2022-04-01T10:31:24', 'content': '', 'title': 'ssh bruteforce attack (Lu)', 'description': '', 'expiration': '2022-05-01T10:00:00', 'is_active': 1, 'tag': ['SSH', 'scanner', 'attack', 'login', 'Telnet'], 'targeted_countries': [], 'industries': []}, {'id': 2964745680, 'indicator': '1.15.175.127', 'type': 'IPv4', 'created': '2022-03-16T18:24:57', 'content': '', 'title': 'SSH intrusion attempt from 1.15.175.127', 'description': '', 'expiration': '2022-04-15T18:00:00', 'is_active': 1, 'tag': ['Bruteforce', 'Brute-Force', 'SSH', 'Honeypot'], 'targeted_countries': [], 'industries': []}, {'id': 2964745680, 'indicator': '1.15.175.127', 'type': 'IPv4', 'created': '2022-03-30T03:00:14', 'content': '', 'title': 'HoneyNet Event:1.15.175.127', 'description': \"HoneyNet Event: 1.15.175.127 connected: 8 times over ports: '22', None  Tags: Suricata, Cowrie,22, None\", 'expiration': '2022-04-29T03:00:00', 'is_active': 1, 'tag': ['tsec', 'tpot19', 'honeypot', 'la-safe.org'], 'targeted_countries': [], 'industries': []}, {'id': 2964745680, 'indicator': '1.15.175.127', 'type': 'IPv4', 'created': '2022-03-30T03:00:12', 'content': '', 'title': 'HoneyNet Event:1.15.175.127', 'description': \"HoneyNet Event: 1.15.175.127 connected: 8 times over ports: '22', None  Tags: Suricata, Cowrie,22, None\", 'expiration': '2022-04-29T03:00:00', 'is_active': 1, 'tag': ['tsec', 'tpot19', 'honeypot', 'la-safe.org'], 'targeted_countries': [], 'industries': []}, {'id': 2964745680, 'indicator': '1.15.175.127', 'type': 'IPv4', 'created': '2022-03-30T03:00:13', 'content': '', 'title': 'HoneyNet Event:1.15.175.127', 'description': \"HoneyNet Event: 1.15.175.127 connected: 8 times over ports: '22', None  Tags: Suricata, Cowrie,22, None\", 'expiration': '2022-04-29T03:00:00', 'is_active': 1, 'tag': ['tsec', 'tpot19', 'honeypot', 'la-safe.org'], 'targeted_countries': [], 'industries': []}, {'id': 2964745680, 'indicator': '1.15.175.127', 'type': 'IPv4', 'created': '2022-03-30T03:00:15', 'content': '', 'title': 'HoneyNet Event:1.15.175.127', 'description': \"HoneyNet Event: 1.15.175.127 connected: 8 times over ports: '22', None  Tags: Suricata, Cowrie,22, None\", 'expiration': '2022-04-29T03:00:00', 'is_active': 1, 'tag': ['tsec', 'tpot19', 'honeypot', 'la-safe.org'], 'targeted_countries': [], 'industries': []}, {'id': 2964745680, 'indicator': '1.15.175.127', 'type': 'IPv4', 'created': '2022-04-09T09:01:05', 'content': '', 'title': 'HoneyNet Event:1.15.175.127', 'description': 'HoneyNet Event: 1.15.175.127 connected: 89 times over ports: 22, None  Tags: Suricata, Cowrie,22, None', 'expiration': '2022-05-09T09:00:00', 'is_active': 1, 'tag': ['tsec', 'tpot19', 'honeypot', 'la-safe.org'], 'targeted_countries': [], 'industries': []}, {'id': 2964745680, 'indicator': '1.15.175.127', 'type': 'IPv4', 'created': '2022-04-09T09:01:03', 'content': '', 'title': 'HoneyNet Event:1.15.175.127', 'description': 'HoneyNet Event: 1.15.175.127 connected: 89 times over ports: 22, None  Tags: Suricata, Cowrie,22, None', 'expiration': '2022-05-09T09:00:00', 'is_active': 1, 'tag': ['tsec', 'tpot19', 'honeypot', 'la-safe.org'], 'targeted_countries': [], 'industries': []}, {'id': 2964745680, 'indicator': '1.15.175.127', 'type': 'IPv4', 'created': '2022-04-08T00:00:12', 'content': '', 'title': '', 'description': 'SSH bruteforce authentication activity', 'expiration': '2022-05-08T00:00:00', 'is_active': 1, 'tag': ['Bruteforce', 'Honeypot'], 'targeted_countries': [], 'industries': []}, {'id': 2964745680, 'indicator': '1.15.175.127', 'type': 'IPv4', 'created': '2022-03-17T00:10:32', 'content': '', 'title': 'Ban [sshd]', 'description': 'Banned by Fail2Ban [sshd]', 'expiration': '2022-04-16T00:00:00', 'is_active': 1, 'tag': [], 'targeted_countries': [], 'industries': []}, {'id': 2964745680, 'indicator': '1.15.175.127', 'type': 'IPv4', 'created': '2022-03-15T16:05:10', 'content': '', 'title': '', 'description': 'Host bruteforcing SSH', 'expiration': '2022-04-15T00:00:00', 'is_active': 1, 'tag': ['brute force', 'ssh', 'honeypot'], 'targeted_countries': ['Australia'], 'industries': []}], '1.234.58.220': [{'id': 2915999983, 'indicator': '1.234.58.220', 'type': 'IPv4', 'created': '2022-04-04T22:59:43', 'content': '', 'title': 'C2: Brutforce ssh Login', 'description': '', 'expiration': '2022-07-14T00:00:00', 'is_active': 1, 'tag': ['Brutforce', 'Webattack', 'smtp', 'ssh', 'scanning', 'tcp', 'Scanner'], 'targeted_countries': ['Germany'], 'industries': ['Serverhosting', 'Technology']}, {'id': 2915999983, 'indicator': '1.234.58.220', 'type': 'IPv4', 'created': '2022-04-07T02:35:19', 'content': '', 'title': 'BruteForce', 'description': 'BruteForce_Attack', 'expiration': '2022-05-07T00:00:00', 'is_active': 1, 'tag': [], 'targeted_countries': [], 'industries': []}, {'id': 2915999983, 'indicator': '1.234.58.220', 'type': 'IPv4', 'created': '2022-03-19T13:06:55', 'content': '', 'title': 'ssh bruteforce attack (Lu)', 'description': '', 'expiration': '2022-04-18T13:00:00', 'is_active': 1, 'tag': ['SSH', 'scanner', 'attack', 'login', 'Telnet'], 'targeted_countries': [], 'industries': []}, {'id': 2915999983, 'indicator': '1.234.58.220', 'type': 'IPv4', 'created': '2022-03-31T20:43:01', 'content': '', 'title': 'SSH intrusion attempt from 1.234.58.220', 'description': '', 'expiration': '2022-04-30T20:00:00', 'is_active': 1, 'tag': ['Bruteforce', 'Brute-Force', 'SSH', 'Honeypot'], 'targeted_countries': [], 'industries': []}, {'id': 2915999983, 'indicator': '1.234.58.220', 'type': 'IPv4', 'created': '2022-03-21T16:00:10', 'content': '', 'title': 'HoneyNet Event:1.234.58.220', 'description': 'HoneyNet Event: 1.234.58.220 connected: 176 times over ports: 22, None  Tags: Cowrie, Suricata,22, None', 'expiration': '2022-04-20T16:00:00', 'is_active': 1, 'tag': ['tsec', 'tpot19', 'honeypot', 'la-safe.org'], 'targeted_countries': [], 'industries': []}, {'id': 2915999983, 'indicator': '1.234.58.220', 'type': 'IPv4', 'created': '2022-03-21T16:00:08', 'content': '', 'title': 'HoneyNet Event:1.234.58.220', 'description': 'HoneyNet Event: 1.234.58.220 connected: 176 times over ports: 22, None  Tags: Cowrie, Suricata,22, None', 'expiration': '2022-04-20T16:00:00', 'is_active': 1, 'tag': ['tsec', 'tpot19', 'honeypot', 'la-safe.org'], 'targeted_countries': [], 'industries': []}, {'id': 2915999983, 'indicator': '1.234.58.220', 'type': 'IPv4', 'created': '2022-03-21T16:00:09', 'content': '', 'title': 'HoneyNet Event:1.234.58.220', 'description': 'HoneyNet Event: 1.234.58.220 connected: 176 times over ports: 22, None  Tags: Cowrie, Suricata,22, None', 'expiration': '2022-04-20T16:00:00', 'is_active': 1, 'tag': ['tsec', 'tpot19', 'honeypot', 'la-safe.org'], 'targeted_countries': [], 'industries': []}, {'id': 2915999983, 'indicator': '1.234.58.220', 'type': 'IPv4', 'created': '2022-03-21T16:00:11', 'content': '', 'title': 'HoneyNet Event:1.234.58.220', 'description': 'HoneyNet Event: 1.234.58.220 connected: 176 times over ports: 22, None  Tags: Cowrie, Suricata,22, None', 'expiration': '2022-04-20T16:00:00', 'is_active': 1, 'tag': ['tsec', 'tpot19', 'honeypot', 'la-safe.org'], 'targeted_countries': [], 'industries': []}, {'id': 2915999983, 'indicator': '1.234.58.220', 'type': 'IPv4', 'created': '2022-04-12T00:00:10', 'content': '', 'title': '', 'description': 'SSH bruteforce authentication activity', 'expiration': '2022-05-12T00:00:00', 'is_active': 1, 'tag': ['Bruteforce', 'Honeypot'], 'targeted_countries': [], 'industries': []}, {'id': 2915999983, 'indicator': '1.234.58.220', 'type': 'IPv4', 'created': '2022-04-05T23:07:49', 'content': '', 'title': 'Ban [sshd]', 'description': 'Banned by Fail2Ban [sshd]', 'expiration': '2022-05-05T23:00:00', 'is_active': 1, 'tag': [], 'targeted_countries': [], 'industries': []}]}\n"
          ]
        }
      ],
      "source": [
        "dic={}\n",
        "for index in range(len(indicator_pulses)):\n",
        "  for key in indicator_pulses[index]:\n",
        "    puls_idss=indicator_pulses[index][key]\n",
        "  for id in puls_idss:\n",
        "    pulse_details = otx.get_pulse_details(id)\n",
        "    ind=pulse_details['indicators']\n",
        "    if ind:\n",
        "      for i in ind:\n",
        "        if i['indicator']==key:\n",
        "          indi_info=i\n",
        "          # kk[key].append(i)\n",
        "          tag = pulse_details['tags']\n",
        "          targeted_countries = pulse_details['targeted_countries']\n",
        "          industries = pulse_details['industries']\n",
        "          dict1 = {'tag':tag, 'targeted_countries':targeted_countries, 'industries':industries}\n",
        "          indi_info.update(dict1)\n",
        "          kk[key].append(indi_info)\n",
        "\n",
        "          # print(\"yes\")\n",
        "  # print(ind)\n",
        "print(kk)"
      ]
    },
    {
      "cell_type": "markdown",
      "source": [
        "only for test\n"
      ],
      "metadata": {
        "id": "kqGRLWVRxNkA"
      }
    },
    {
      "cell_type": "code",
      "source": [
        "dic={}\n",
        "for index in range(len(indicator_pulses)):\n",
        "  for key in indicator_pulses[index]:\n",
        "    puls_idss=indicator_pulses[index][key]\n",
        "  for id in puls_idss:\n",
        "    pulse_details = otx.get_pulse_details(id)\n",
        "    ind=pulse_details['indicators']\n",
        "    if ind:\n",
        "      for i in ind:\n",
        "        if i['indicator']==key:\n",
        "          indi_info=i\n",
        "          # kk[key].append(i)\n",
        "          tag = pulse_details['tags']\n",
        "          targeted_countries = pulse_details['targeted_countries']\n",
        "          industries = pulse_details['industries']\n",
        "          dict1 = {'tag':tag, 'targeted_countries':targeted_countries, 'industries':industries}\n",
        "          indi_info.update(dict1)\n",
        "          indi_inf=get_role(i=indi_info,k=key,gk=gk)\n",
        "          kk[key].append(indi_inf)\n",
        "\n",
        "          # print(\"yes\")\n",
        "  # print(ind)\n",
        "print(kk)"
      ],
      "metadata": {
        "colab": {
          "base_uri": "https://localhost:8080/"
        },
        "id": "GYBmKVPwxM9A",
        "outputId": "97902b63-0f69-4b22-d943-4d3b771915c5"
      },
      "execution_count": null,
      "outputs": [
        {
          "output_type": "stream",
          "name": "stdout",
          "text": [
            "{'id': 2964745680, 'indicator': '1.15.175.127', 'type': 'IPv4', 'created': '2022-03-31T09:31:41', 'content': '', 'title': 'HHV: Brutforce ssh Login (4)', 'description': '', 'expiration': '2022-07-18T00:00:00', 'is_active': 1, 'tag': ['Brutforce', 'Webattack', 'smtp', 'ssh', 'scanning', 'tcp', 'Scanner'], 'targeted_countries': ['Germany'], 'industries': ['Serverhosting', 'Technology'], 'role': 'bruteforce'}\n",
            "{'id': 2964745680, 'indicator': '1.15.175.127', 'type': 'IPv4', 'created': '2022-04-01T10:31:24', 'content': '', 'title': 'ssh bruteforce attack (Lu)', 'description': '', 'expiration': '2022-05-01T10:00:00', 'is_active': 1, 'tag': ['SSH', 'scanner', 'attack', 'login', 'Telnet'], 'targeted_countries': [], 'industries': [], 'role': 'bruteforce'}\n",
            "{'id': 2964745680, 'indicator': '1.15.175.127', 'type': 'IPv4', 'created': '2022-03-16T18:24:57', 'content': '', 'title': 'SSH intrusion attempt from 1.15.175.127', 'description': '', 'expiration': '2022-04-15T18:00:00', 'is_active': 1, 'tag': ['Bruteforce', 'Brute-Force', 'SSH', 'Honeypot'], 'targeted_countries': [], 'industries': [], 'role': 'bruteforce'}\n",
            "{'id': 2964745680, 'indicator': '1.15.175.127', 'type': 'IPv4', 'created': '2022-03-30T03:00:14', 'content': '', 'title': 'HoneyNet Event:1.15.175.127', 'description': \"HoneyNet Event: 1.15.175.127 connected: 8 times over ports: '22', None  Tags: Suricata, Cowrie,22, None\", 'expiration': '2022-04-29T03:00:00', 'is_active': 1, 'tag': ['tsec', 'tpot19', 'honeypot', 'la-safe.org'], 'targeted_countries': [], 'industries': [], 'role': None}\n",
            "{'id': 2964745680, 'indicator': '1.15.175.127', 'type': 'IPv4', 'created': '2022-03-30T03:00:12', 'content': '', 'title': 'HoneyNet Event:1.15.175.127', 'description': \"HoneyNet Event: 1.15.175.127 connected: 8 times over ports: '22', None  Tags: Suricata, Cowrie,22, None\", 'expiration': '2022-04-29T03:00:00', 'is_active': 1, 'tag': ['tsec', 'tpot19', 'honeypot', 'la-safe.org'], 'targeted_countries': [], 'industries': [], 'role': None}\n",
            "{'id': 2964745680, 'indicator': '1.15.175.127', 'type': 'IPv4', 'created': '2022-03-30T03:00:13', 'content': '', 'title': 'HoneyNet Event:1.15.175.127', 'description': \"HoneyNet Event: 1.15.175.127 connected: 8 times over ports: '22', None  Tags: Suricata, Cowrie,22, None\", 'expiration': '2022-04-29T03:00:00', 'is_active': 1, 'tag': ['tsec', 'tpot19', 'honeypot', 'la-safe.org'], 'targeted_countries': [], 'industries': [], 'role': None}\n",
            "{'id': 2964745680, 'indicator': '1.15.175.127', 'type': 'IPv4', 'created': '2022-03-30T03:00:15', 'content': '', 'title': 'HoneyNet Event:1.15.175.127', 'description': \"HoneyNet Event: 1.15.175.127 connected: 8 times over ports: '22', None  Tags: Suricata, Cowrie,22, None\", 'expiration': '2022-04-29T03:00:00', 'is_active': 1, 'tag': ['tsec', 'tpot19', 'honeypot', 'la-safe.org'], 'targeted_countries': [], 'industries': [], 'role': None}\n",
            "{'id': 2964745680, 'indicator': '1.15.175.127', 'type': 'IPv4', 'created': '2022-04-09T09:01:05', 'content': '', 'title': 'HoneyNet Event:1.15.175.127', 'description': 'HoneyNet Event: 1.15.175.127 connected: 89 times over ports: 22, None  Tags: Suricata, Cowrie,22, None', 'expiration': '2022-05-09T09:00:00', 'is_active': 1, 'tag': ['tsec', 'tpot19', 'honeypot', 'la-safe.org'], 'targeted_countries': [], 'industries': [], 'role': None}\n",
            "{'id': 2964745680, 'indicator': '1.15.175.127', 'type': 'IPv4', 'created': '2022-04-09T09:01:03', 'content': '', 'title': 'HoneyNet Event:1.15.175.127', 'description': 'HoneyNet Event: 1.15.175.127 connected: 89 times over ports: 22, None  Tags: Suricata, Cowrie,22, None', 'expiration': '2022-05-09T09:00:00', 'is_active': 1, 'tag': ['tsec', 'tpot19', 'honeypot', 'la-safe.org'], 'targeted_countries': [], 'industries': [], 'role': None}\n",
            "{'id': 2964745680, 'indicator': '1.15.175.127', 'type': 'IPv4', 'created': '2022-04-08T00:00:12', 'content': '', 'title': '', 'description': 'SSH bruteforce authentication activity', 'expiration': '2022-05-08T00:00:00', 'is_active': 1, 'tag': ['Bruteforce', 'Honeypot'], 'targeted_countries': [], 'industries': [], 'role': None}\n",
            "{'id': 2964745680, 'indicator': '1.15.175.127', 'type': 'IPv4', 'created': '2022-03-17T00:10:32', 'content': '', 'title': 'Ban [sshd]', 'description': 'Banned by Fail2Ban [sshd]', 'expiration': '2022-04-16T00:00:00', 'is_active': 1, 'tag': [], 'targeted_countries': [], 'industries': [], 'role': None}\n",
            "{'id': 2964745680, 'indicator': '1.15.175.127', 'type': 'IPv4', 'created': '2022-03-15T16:05:10', 'content': '', 'title': '', 'description': 'Host bruteforcing SSH', 'expiration': '2022-04-15T00:00:00', 'is_active': 1, 'tag': ['brute force', 'ssh', 'honeypot'], 'targeted_countries': ['Australia'], 'industries': [], 'role': None}\n",
            "{'id': 2915999983, 'indicator': '1.234.58.220', 'type': 'IPv4', 'created': '2022-04-04T22:59:43', 'content': '', 'title': 'C2: Brutforce ssh Login', 'description': '', 'expiration': '2022-07-14T00:00:00', 'is_active': 1, 'tag': ['Brutforce', 'Webattack', 'smtp', 'ssh', 'scanning', 'tcp', 'Scanner'], 'targeted_countries': ['Germany'], 'industries': ['Serverhosting', 'Technology'], 'role': 'bruteforce'}\n",
            "{'id': 2915999983, 'indicator': '1.234.58.220', 'type': 'IPv4', 'created': '2022-04-07T02:35:19', 'content': '', 'title': 'BruteForce', 'description': 'BruteForce_Attack', 'expiration': '2022-05-07T00:00:00', 'is_active': 1, 'tag': [], 'targeted_countries': [], 'industries': [], 'role': None}\n",
            "{'id': 2915999983, 'indicator': '1.234.58.220', 'type': 'IPv4', 'created': '2022-03-19T13:06:55', 'content': '', 'title': 'ssh bruteforce attack (Lu)', 'description': '', 'expiration': '2022-04-18T13:00:00', 'is_active': 1, 'tag': ['SSH', 'scanner', 'attack', 'login', 'Telnet'], 'targeted_countries': [], 'industries': [], 'role': 'bruteforce'}\n",
            "{'id': 2915999983, 'indicator': '1.234.58.220', 'type': 'IPv4', 'created': '2022-03-31T20:43:01', 'content': '', 'title': 'SSH intrusion attempt from 1.234.58.220', 'description': '', 'expiration': '2022-04-30T20:00:00', 'is_active': 1, 'tag': ['Bruteforce', 'Brute-Force', 'SSH', 'Honeypot'], 'targeted_countries': [], 'industries': [], 'role': 'bruteforce'}\n",
            "{'id': 2915999983, 'indicator': '1.234.58.220', 'type': 'IPv4', 'created': '2022-03-21T16:00:10', 'content': '', 'title': 'HoneyNet Event:1.234.58.220', 'description': 'HoneyNet Event: 1.234.58.220 connected: 176 times over ports: 22, None  Tags: Cowrie, Suricata,22, None', 'expiration': '2022-04-20T16:00:00', 'is_active': 1, 'tag': ['tsec', 'tpot19', 'honeypot', 'la-safe.org'], 'targeted_countries': [], 'industries': [], 'role': None}\n",
            "{'id': 2915999983, 'indicator': '1.234.58.220', 'type': 'IPv4', 'created': '2022-03-21T16:00:08', 'content': '', 'title': 'HoneyNet Event:1.234.58.220', 'description': 'HoneyNet Event: 1.234.58.220 connected: 176 times over ports: 22, None  Tags: Cowrie, Suricata,22, None', 'expiration': '2022-04-20T16:00:00', 'is_active': 1, 'tag': ['tsec', 'tpot19', 'honeypot', 'la-safe.org'], 'targeted_countries': [], 'industries': [], 'role': None}\n",
            "{'id': 2915999983, 'indicator': '1.234.58.220', 'type': 'IPv4', 'created': '2022-03-21T16:00:09', 'content': '', 'title': 'HoneyNet Event:1.234.58.220', 'description': 'HoneyNet Event: 1.234.58.220 connected: 176 times over ports: 22, None  Tags: Cowrie, Suricata,22, None', 'expiration': '2022-04-20T16:00:00', 'is_active': 1, 'tag': ['tsec', 'tpot19', 'honeypot', 'la-safe.org'], 'targeted_countries': [], 'industries': [], 'role': None}\n",
            "{'id': 2915999983, 'indicator': '1.234.58.220', 'type': 'IPv4', 'created': '2022-03-21T16:00:11', 'content': '', 'title': 'HoneyNet Event:1.234.58.220', 'description': 'HoneyNet Event: 1.234.58.220 connected: 176 times over ports: 22, None  Tags: Cowrie, Suricata,22, None', 'expiration': '2022-04-20T16:00:00', 'is_active': 1, 'tag': ['tsec', 'tpot19', 'honeypot', 'la-safe.org'], 'targeted_countries': [], 'industries': [], 'role': None}\n",
            "{'id': 2915999983, 'indicator': '1.234.58.220', 'type': 'IPv4', 'created': '2022-04-12T00:00:10', 'content': '', 'title': '', 'description': 'SSH bruteforce authentication activity', 'expiration': '2022-05-12T00:00:00', 'is_active': 1, 'tag': ['Bruteforce', 'Honeypot'], 'targeted_countries': [], 'industries': [], 'role': None}\n",
            "{'id': 2915999983, 'indicator': '1.234.58.220', 'type': 'IPv4', 'created': '2022-04-05T23:07:49', 'content': '', 'title': 'Ban [sshd]', 'description': 'Banned by Fail2Ban [sshd]', 'expiration': '2022-05-05T23:00:00', 'is_active': 1, 'tag': [], 'targeted_countries': [], 'industries': [], 'role': None}\n",
            "{'1.15.175.127': [{'id': 2964745680, 'indicator': '1.15.175.127', 'type': 'IPv4', 'created': '2022-03-31T09:31:41', 'content': '', 'title': 'HHV: Brutforce ssh Login (4)', 'description': '', 'expiration': '2022-07-18T00:00:00', 'is_active': 1, 'tag': ['Brutforce', 'Webattack', 'smtp', 'ssh', 'scanning', 'tcp', 'Scanner'], 'targeted_countries': ['Germany'], 'industries': ['Serverhosting', 'Technology'], 'role': 'bruteforce'}, {'id': 2964745680, 'indicator': '1.15.175.127', 'type': 'IPv4', 'created': '2022-04-01T10:31:24', 'content': '', 'title': 'ssh bruteforce attack (Lu)', 'description': '', 'expiration': '2022-05-01T10:00:00', 'is_active': 1, 'tag': ['SSH', 'scanner', 'attack', 'login', 'Telnet'], 'targeted_countries': [], 'industries': [], 'role': 'bruteforce'}, {'id': 2964745680, 'indicator': '1.15.175.127', 'type': 'IPv4', 'created': '2022-03-16T18:24:57', 'content': '', 'title': 'SSH intrusion attempt from 1.15.175.127', 'description': '', 'expiration': '2022-04-15T18:00:00', 'is_active': 1, 'tag': ['Bruteforce', 'Brute-Force', 'SSH', 'Honeypot'], 'targeted_countries': [], 'industries': [], 'role': 'bruteforce'}, {'id': 2964745680, 'indicator': '1.15.175.127', 'type': 'IPv4', 'created': '2022-03-30T03:00:14', 'content': '', 'title': 'HoneyNet Event:1.15.175.127', 'description': \"HoneyNet Event: 1.15.175.127 connected: 8 times over ports: '22', None  Tags: Suricata, Cowrie,22, None\", 'expiration': '2022-04-29T03:00:00', 'is_active': 1, 'tag': ['tsec', 'tpot19', 'honeypot', 'la-safe.org'], 'targeted_countries': [], 'industries': [], 'role': None}, {'id': 2964745680, 'indicator': '1.15.175.127', 'type': 'IPv4', 'created': '2022-03-30T03:00:12', 'content': '', 'title': 'HoneyNet Event:1.15.175.127', 'description': \"HoneyNet Event: 1.15.175.127 connected: 8 times over ports: '22', None  Tags: Suricata, Cowrie,22, None\", 'expiration': '2022-04-29T03:00:00', 'is_active': 1, 'tag': ['tsec', 'tpot19', 'honeypot', 'la-safe.org'], 'targeted_countries': [], 'industries': [], 'role': None}, {'id': 2964745680, 'indicator': '1.15.175.127', 'type': 'IPv4', 'created': '2022-03-30T03:00:13', 'content': '', 'title': 'HoneyNet Event:1.15.175.127', 'description': \"HoneyNet Event: 1.15.175.127 connected: 8 times over ports: '22', None  Tags: Suricata, Cowrie,22, None\", 'expiration': '2022-04-29T03:00:00', 'is_active': 1, 'tag': ['tsec', 'tpot19', 'honeypot', 'la-safe.org'], 'targeted_countries': [], 'industries': [], 'role': None}, {'id': 2964745680, 'indicator': '1.15.175.127', 'type': 'IPv4', 'created': '2022-03-30T03:00:15', 'content': '', 'title': 'HoneyNet Event:1.15.175.127', 'description': \"HoneyNet Event: 1.15.175.127 connected: 8 times over ports: '22', None  Tags: Suricata, Cowrie,22, None\", 'expiration': '2022-04-29T03:00:00', 'is_active': 1, 'tag': ['tsec', 'tpot19', 'honeypot', 'la-safe.org'], 'targeted_countries': [], 'industries': [], 'role': None}, {'id': 2964745680, 'indicator': '1.15.175.127', 'type': 'IPv4', 'created': '2022-04-09T09:01:05', 'content': '', 'title': 'HoneyNet Event:1.15.175.127', 'description': 'HoneyNet Event: 1.15.175.127 connected: 89 times over ports: 22, None  Tags: Suricata, Cowrie,22, None', 'expiration': '2022-05-09T09:00:00', 'is_active': 1, 'tag': ['tsec', 'tpot19', 'honeypot', 'la-safe.org'], 'targeted_countries': [], 'industries': [], 'role': None}, {'id': 2964745680, 'indicator': '1.15.175.127', 'type': 'IPv4', 'created': '2022-04-09T09:01:03', 'content': '', 'title': 'HoneyNet Event:1.15.175.127', 'description': 'HoneyNet Event: 1.15.175.127 connected: 89 times over ports: 22, None  Tags: Suricata, Cowrie,22, None', 'expiration': '2022-05-09T09:00:00', 'is_active': 1, 'tag': ['tsec', 'tpot19', 'honeypot', 'la-safe.org'], 'targeted_countries': [], 'industries': [], 'role': None}, {'id': 2964745680, 'indicator': '1.15.175.127', 'type': 'IPv4', 'created': '2022-04-08T00:00:12', 'content': '', 'title': '', 'description': 'SSH bruteforce authentication activity', 'expiration': '2022-05-08T00:00:00', 'is_active': 1, 'tag': ['Bruteforce', 'Honeypot'], 'targeted_countries': [], 'industries': [], 'role': None}, {'id': 2964745680, 'indicator': '1.15.175.127', 'type': 'IPv4', 'created': '2022-03-17T00:10:32', 'content': '', 'title': 'Ban [sshd]', 'description': 'Banned by Fail2Ban [sshd]', 'expiration': '2022-04-16T00:00:00', 'is_active': 1, 'tag': [], 'targeted_countries': [], 'industries': [], 'role': None}, {'id': 2964745680, 'indicator': '1.15.175.127', 'type': 'IPv4', 'created': '2022-03-15T16:05:10', 'content': '', 'title': '', 'description': 'Host bruteforcing SSH', 'expiration': '2022-04-15T00:00:00', 'is_active': 1, 'tag': ['brute force', 'ssh', 'honeypot'], 'targeted_countries': ['Australia'], 'industries': [], 'role': None}], '1.234.58.220': [{'id': 2915999983, 'indicator': '1.234.58.220', 'type': 'IPv4', 'created': '2022-04-04T22:59:43', 'content': '', 'title': 'C2: Brutforce ssh Login', 'description': '', 'expiration': '2022-07-14T00:00:00', 'is_active': 1, 'tag': ['Brutforce', 'Webattack', 'smtp', 'ssh', 'scanning', 'tcp', 'Scanner'], 'targeted_countries': ['Germany'], 'industries': ['Serverhosting', 'Technology'], 'role': 'bruteforce'}, {'id': 2915999983, 'indicator': '1.234.58.220', 'type': 'IPv4', 'created': '2022-04-07T02:35:19', 'content': '', 'title': 'BruteForce', 'description': 'BruteForce_Attack', 'expiration': '2022-05-07T00:00:00', 'is_active': 1, 'tag': [], 'targeted_countries': [], 'industries': [], 'role': None}, {'id': 2915999983, 'indicator': '1.234.58.220', 'type': 'IPv4', 'created': '2022-03-19T13:06:55', 'content': '', 'title': 'ssh bruteforce attack (Lu)', 'description': '', 'expiration': '2022-04-18T13:00:00', 'is_active': 1, 'tag': ['SSH', 'scanner', 'attack', 'login', 'Telnet'], 'targeted_countries': [], 'industries': [], 'role': 'bruteforce'}, {'id': 2915999983, 'indicator': '1.234.58.220', 'type': 'IPv4', 'created': '2022-03-31T20:43:01', 'content': '', 'title': 'SSH intrusion attempt from 1.234.58.220', 'description': '', 'expiration': '2022-04-30T20:00:00', 'is_active': 1, 'tag': ['Bruteforce', 'Brute-Force', 'SSH', 'Honeypot'], 'targeted_countries': [], 'industries': [], 'role': 'bruteforce'}, {'id': 2915999983, 'indicator': '1.234.58.220', 'type': 'IPv4', 'created': '2022-03-21T16:00:10', 'content': '', 'title': 'HoneyNet Event:1.234.58.220', 'description': 'HoneyNet Event: 1.234.58.220 connected: 176 times over ports: 22, None  Tags: Cowrie, Suricata,22, None', 'expiration': '2022-04-20T16:00:00', 'is_active': 1, 'tag': ['tsec', 'tpot19', 'honeypot', 'la-safe.org'], 'targeted_countries': [], 'industries': [], 'role': None}, {'id': 2915999983, 'indicator': '1.234.58.220', 'type': 'IPv4', 'created': '2022-03-21T16:00:08', 'content': '', 'title': 'HoneyNet Event:1.234.58.220', 'description': 'HoneyNet Event: 1.234.58.220 connected: 176 times over ports: 22, None  Tags: Cowrie, Suricata,22, None', 'expiration': '2022-04-20T16:00:00', 'is_active': 1, 'tag': ['tsec', 'tpot19', 'honeypot', 'la-safe.org'], 'targeted_countries': [], 'industries': [], 'role': None}, {'id': 2915999983, 'indicator': '1.234.58.220', 'type': 'IPv4', 'created': '2022-03-21T16:00:09', 'content': '', 'title': 'HoneyNet Event:1.234.58.220', 'description': 'HoneyNet Event: 1.234.58.220 connected: 176 times over ports: 22, None  Tags: Cowrie, Suricata,22, None', 'expiration': '2022-04-20T16:00:00', 'is_active': 1, 'tag': ['tsec', 'tpot19', 'honeypot', 'la-safe.org'], 'targeted_countries': [], 'industries': [], 'role': None}, {'id': 2915999983, 'indicator': '1.234.58.220', 'type': 'IPv4', 'created': '2022-03-21T16:00:11', 'content': '', 'title': 'HoneyNet Event:1.234.58.220', 'description': 'HoneyNet Event: 1.234.58.220 connected: 176 times over ports: 22, None  Tags: Cowrie, Suricata,22, None', 'expiration': '2022-04-20T16:00:00', 'is_active': 1, 'tag': ['tsec', 'tpot19', 'honeypot', 'la-safe.org'], 'targeted_countries': [], 'industries': [], 'role': None}, {'id': 2915999983, 'indicator': '1.234.58.220', 'type': 'IPv4', 'created': '2022-04-12T00:00:10', 'content': '', 'title': '', 'description': 'SSH bruteforce authentication activity', 'expiration': '2022-05-12T00:00:00', 'is_active': 1, 'tag': ['Bruteforce', 'Honeypot'], 'targeted_countries': [], 'industries': [], 'role': None}, {'id': 2915999983, 'indicator': '1.234.58.220', 'type': 'IPv4', 'created': '2022-04-05T23:07:49', 'content': '', 'title': 'Ban [sshd]', 'description': 'Banned by Fail2Ban [sshd]', 'expiration': '2022-05-05T23:00:00', 'is_active': 1, 'tag': [], 'targeted_countries': [], 'industries': [], 'role': None}]}\n"
          ]
        }
      ]
    },
    {
      "cell_type": "code",
      "source": [
        "def get_role(i,k,gk):\n",
        "  cr=i['created']\n",
        "  gk_info=gk.get_group(k)\n",
        "  eq=gk_info.loc[gk_info['created'] == cr]\n",
        "  if len(eq)>0:\n",
        "    role=eq.iloc[0]['role']\n",
        "    dic1={'role':role}\n",
        "    i.update(dic1)\n",
        "  else:\n",
        "    dic1={'role':None}\n",
        "    i.update(dic1)\n",
        "  print(i)\n",
        "  return (i)"
      ],
      "metadata": {
        "id": "SC7SD2KArqHE"
      },
      "execution_count": null,
      "outputs": []
    },
    {
      "cell_type": "code",
      "execution_count": null,
      "metadata": {
        "id": "G8PAK6ERgoOj"
      },
      "outputs": [],
      "source": [
        "for k in kk.keys():\n",
        "  ind=kk[k]\n",
        "  for i in ind:\n",
        "    cr=i['created']\n",
        "    gk_info=gk.get_group(k)\n",
        "    eq=gk_info.loc[gk_info['created'] == cr]\n",
        "    if len(eq)>0:\n",
        "      role=eq.iloc[0]['role']\n",
        "      dic1={'role':role}\n",
        "      i.update(dic1)\n",
        "    else:\n",
        "      dic1={'role':None}\n",
        "      i.update(dic1)"
      ]
    },
    {
      "cell_type": "code",
      "execution_count": null,
      "metadata": {
        "colab": {
          "base_uri": "https://localhost:8080/"
        },
        "id": "F8OcRPxylDkW",
        "outputId": "85db867f-94a8-40c9-b256-7f370176b1fe"
      },
      "outputs": [
        {
          "name": "stdout",
          "output_type": "stream",
          "text": [
            "{'98.142.141.184': [{'id': 2804418782, 'indicator': '98.142.141.184', 'type': 'IPv4', 'created': '2022-04-02T02:24:15', 'content': '', 'title': 'SSH intrusion attempt from 98.142.141.184', 'description': '', 'expiration': '2022-05-02T02:00:00', 'is_active': 1, 'tag': ['Bruteforce', 'Brute-Force', 'SSH', 'Honeypot'], 'targeted_countries': [], 'industries': [], 'role': 'bruteforce'}, {'id': 2804418782, 'indicator': '98.142.141.184', 'type': 'IPv4', 'created': '2022-03-22T06:35:02', 'content': '', 'title': 'PHI: Brutforce ssh Login (5)', 'description': '', 'expiration': '2022-07-11T00:00:00', 'is_active': 1, 'tag': ['Brutforce', 'Webattack', 'smtp', 'ssh', 'scanning', 'tcp', 'Scanner'], 'targeted_countries': ['Germany'], 'industries': ['Serverhosting', 'Technology'], 'role': 'bruteforce'}, {'id': 2804418782, 'indicator': '98.142.141.184', 'type': 'IPv4', 'created': '2022-03-14T22:00:12', 'content': '', 'title': 'HoneyNet Event:98.142.141.184', 'description': 'HoneyNet Event: 98.142.141.184 connected: 7 times over ports: 22, None  Tags: Suricata, Cowrie,22, None', 'expiration': '2022-04-13T22:00:00', 'is_active': 1, 'tag': ['tsec', 'tpot19', 'honeypot', 'la-safe.org'], 'targeted_countries': [], 'industries': [], 'role': None}, {'id': 2804418782, 'indicator': '98.142.141.184', 'type': 'IPv4', 'created': '2022-03-14T22:00:13', 'content': '', 'title': 'HoneyNet Event:98.142.141.184', 'description': 'HoneyNet Event: 98.142.141.184 connected: 7 times over ports: 22, None  Tags: Suricata, Cowrie,22, None', 'expiration': '2022-04-13T22:00:00', 'is_active': 1, 'tag': ['tsec', 'tpot19', 'honeypot', 'la-safe.org'], 'targeted_countries': [], 'industries': [], 'role': None}, {'id': 2804418782, 'indicator': '98.142.141.184', 'type': 'IPv4', 'created': '2022-03-28T04:00:09', 'content': '', 'title': 'HoneyNet Event:98.142.141.184', 'description': \"HoneyNet Event: 98.142.141.184 connected: 83 times over ports: '22', None  Tags: Suricata, Cowrie,22, None\", 'expiration': '2022-04-27T04:00:00', 'is_active': 1, 'tag': ['tsec', 'tpot19', 'honeypot', 'la-safe.org'], 'targeted_countries': [], 'industries': [], 'role': None}, {'id': 2804418782, 'indicator': '98.142.141.184', 'type': 'IPv4', 'created': '2022-03-14T22:00:14', 'content': '', 'title': 'HoneyNet Event:98.142.141.184', 'description': 'HoneyNet Event: 98.142.141.184 connected: 7 times over ports: 22, None  Tags: Suricata, Cowrie,22, None', 'expiration': '2022-04-13T22:00:00', 'is_active': 1, 'tag': ['tsec', 'tpot19', 'honeypot', 'la-safe.org'], 'targeted_countries': [], 'industries': [], 'role': None}, {'id': 2804418782, 'indicator': '98.142.141.184', 'type': 'IPv4', 'created': '2022-03-14T22:00:17', 'content': '', 'title': 'HoneyNet Event:98.142.141.184', 'description': 'HoneyNet Event: 98.142.141.184 connected: 7 times over ports: 22, None  Tags: Suricata, Cowrie,22, None', 'expiration': '2022-04-13T22:00:00', 'is_active': 1, 'tag': ['tsec', 'tpot19', 'honeypot', 'la-safe.org'], 'targeted_countries': [], 'industries': [], 'role': None}, {'id': 2804418782, 'indicator': '98.142.141.184', 'type': 'IPv4', 'created': '2022-04-07T00:00:14', 'content': '', 'title': '', 'description': 'SSH bruteforce authentication activity', 'expiration': '2022-05-07T00:00:00', 'is_active': 1, 'tag': ['Bruteforce', 'Honeypot'], 'targeted_countries': [], 'industries': [], 'role': 'bruteforce'}, {'id': 2804418782, 'indicator': '98.142.141.184', 'type': 'IPv4', 'created': '2022-03-31T00:00:15', 'content': '', 'title': '', 'description': 'SSH bruteforce authentication activity', 'expiration': '2022-04-30T00:00:00', 'is_active': 1, 'tag': ['Bruteforce', 'Honeypot'], 'targeted_countries': [], 'industries': [], 'role': None}, {'id': 2804418782, 'indicator': '98.142.141.184', 'type': 'IPv4', 'created': '2022-03-27T00:00:18', 'content': '', 'title': '', 'description': 'SSH bruteforce authentication activity', 'expiration': '2022-04-26T00:00:00', 'is_active': 1, 'tag': ['Bruteforce', 'Honeypot'], 'targeted_countries': [], 'industries': [], 'role': None}, {'id': 2804418782, 'indicator': '98.142.141.184', 'type': 'IPv4', 'created': '2022-03-26T00:13:59', 'content': '', 'title': 'Ban [sshd]', 'description': 'Banned by Fail2Ban [sshd]', 'expiration': '2022-04-25T00:00:00', 'is_active': 1, 'tag': [], 'targeted_countries': [], 'industries': [], 'role': None}, {'id': 2804418782, 'indicator': '98.142.141.184', 'type': 'IPv4', 'created': '2022-03-25T10:13:39', 'content': '', 'title': '', 'description': '', 'expiration': '2022-04-24T00:00:00', 'is_active': 1, 'tag': ['ssh', 'tcp', 'brute-force', 'bruteforce'], 'targeted_countries': [], 'industries': [], 'role': None}, {'id': 2804418782, 'indicator': '98.142.141.184', 'type': 'IPv4', 'created': '2022-03-22T18:19:01', 'content': '', 'title': '', 'description': '', 'expiration': '2022-04-21T00:00:00', 'is_active': 1, 'tag': ['ssh', 'tcp', 'brute-force', 'bruteforce'], 'targeted_countries': [], 'industries': [], 'role': None}, {'id': 2804418782, 'indicator': '98.142.141.184', 'type': 'IPv4', 'created': '2022-03-15T13:11:30', 'content': '', 'title': '', 'description': '', 'expiration': '2022-04-14T00:00:00', 'is_active': 1, 'tag': ['ssh', 'tcp', 'brute-force', 'bruteforce'], 'targeted_countries': [], 'industries': [], 'role': None}, {'id': 2804418782, 'indicator': '98.142.141.184', 'type': 'IPv4', 'created': '2022-03-11T21:55:25', 'content': '', 'title': '', 'description': '', 'expiration': '2022-04-10T21:00:00', 'is_active': 1, 'tag': [], 'targeted_countries': [], 'industries': [], 'role': None}], '98.152.112.54': [{'id': 3401124041, 'indicator': '98.152.112.54', 'type': 'IPv4', 'created': '2022-03-17T11:28:10', 'content': '', 'title': 'SSH intrusion attempt from 98.152.112.54', 'description': '', 'expiration': '2022-04-16T11:00:00', 'is_active': 1, 'tag': ['Bruteforce', 'Brute-Force', 'SSH', 'Honeypot'], 'targeted_countries': [], 'industries': [], 'role': 'bruteforce'}, {'id': 3401124041, 'indicator': '98.152.112.54', 'type': 'IPv4', 'created': '2022-03-22T23:31:32', 'content': '', 'title': 'C1: Brutforce ssh Login (6)', 'description': '', 'expiration': '2022-07-15T00:00:00', 'is_active': 1, 'tag': ['Brutforce', 'Webattack', 'smtp', 'ssh', 'scanning', 'tcp', 'Scanner'], 'targeted_countries': ['Germany'], 'industries': ['Serverhosting', 'Technology'], 'role': 'bruteforce'}, {'id': 3401124041, 'indicator': '98.152.112.54', 'type': 'IPv4', 'created': '2022-03-24T21:45:21', 'content': '', 'title': 'BruteForce', 'description': 'BruteForce_Attack', 'expiration': '2022-04-24T00:00:00', 'is_active': 1, 'tag': [], 'targeted_countries': [], 'industries': [], 'role': None}, {'id': 3401124041, 'indicator': '98.152.112.54', 'type': 'IPv4', 'created': '2022-03-17T17:00:16', 'content': '', 'title': 'HoneyNet Event:98.152.112.54', 'description': 'HoneyNet Event: 98.152.112.54 connected: 133 times over ports: None, 22  Tags: Cowrie, Suricata,None, 22', 'expiration': '2022-04-16T17:00:00', 'is_active': 1, 'tag': ['tsec', 'tpot19', 'honeypot', 'la-safe.org'], 'targeted_countries': [], 'industries': [], 'role': None}, {'id': 3401124041, 'indicator': '98.152.112.54', 'type': 'IPv4', 'created': '2022-03-17T17:00:19', 'content': '', 'title': 'HoneyNet Event:98.152.112.54', 'description': 'HoneyNet Event: 98.152.112.54 connected: 133 times over ports: None, 22  Tags: Cowrie, Suricata,None, 22', 'expiration': '2022-04-16T17:00:00', 'is_active': 1, 'tag': ['tsec', 'tpot19', 'honeypot', 'la-safe.org'], 'targeted_countries': [], 'industries': [], 'role': None}, {'id': 3401124041, 'indicator': '98.152.112.54', 'type': 'IPv4', 'created': '2022-03-17T17:00:27', 'content': '', 'title': 'HoneyNet Event:98.152.112.54', 'description': 'HoneyNet Event: 98.152.112.54 connected: 133 times over ports: None, 22  Tags: Cowrie, Suricata,None, 22', 'expiration': '2022-04-16T17:00:00', 'is_active': 1, 'tag': ['tsec', 'tpot19', 'honeypot', 'la-safe.org'], 'targeted_countries': [], 'industries': [], 'role': None}, {'id': 3401124041, 'indicator': '98.152.112.54', 'type': 'IPv4', 'created': '2022-03-17T17:00:24', 'content': '', 'title': 'HoneyNet Event:98.152.112.54', 'description': 'HoneyNet Event: 98.152.112.54 connected: 133 times over ports: None, 22  Tags: Cowrie, Suricata,None, 22', 'expiration': '2022-04-16T17:00:00', 'is_active': 1, 'tag': ['tsec', 'tpot19', 'honeypot', 'la-safe.org'], 'targeted_countries': [], 'industries': [], 'role': None}, {'id': 3401124041, 'indicator': '98.152.112.54', 'type': 'IPv4', 'created': '2022-04-07T00:00:14', 'content': '', 'title': '', 'description': 'SSH bruteforce authentication activity', 'expiration': '2022-05-07T00:00:00', 'is_active': 1, 'tag': ['Bruteforce', 'Honeypot'], 'targeted_countries': [], 'industries': [], 'role': 'bruteforce'}, {'id': 3401124041, 'indicator': '98.152.112.54', 'type': 'IPv4', 'created': '2022-03-24T20:15:03', 'content': '', 'title': '', 'description': '', 'expiration': '2022-04-23T00:00:00', 'is_active': 1, 'tag': [''], 'targeted_countries': [], 'industries': [], 'role': None}, {'id': 3401124041, 'indicator': '98.152.112.54', 'type': 'IPv4', 'created': '2022-04-02T00:00:12', 'content': '', 'title': '', 'description': 'SSH bruteforce authentication activity', 'expiration': '2022-05-02T00:00:00', 'is_active': 1, 'tag': ['Bruteforce', 'Honeypot'], 'targeted_countries': [], 'industries': [], 'role': None}, {'id': 3401124041, 'indicator': '98.152.112.54', 'type': 'IPv4', 'created': '2022-04-01T00:00:23', 'content': '', 'title': '', 'description': 'SSH bruteforce authentication activity', 'expiration': '2022-05-01T00:00:00', 'is_active': 1, 'tag': ['Bruteforce', 'Honeypot'], 'targeted_countries': [], 'industries': [], 'role': None}, {'id': 3401124041, 'indicator': '98.152.112.54', 'type': 'IPv4', 'created': '2022-03-23T00:09:33', 'content': '', 'title': 'Ban [sshd]', 'description': 'Banned by Fail2Ban [sshd]', 'expiration': '2022-04-22T00:00:00', 'is_active': 1, 'tag': [], 'targeted_countries': [], 'industries': [], 'role': None}]}\n"
          ]
        }
      ],
      "source": [
        "print(kk)"
      ]
    },
    {
      "cell_type": "code",
      "execution_count": null,
      "metadata": {
        "id": "HNkQIZQhn9El"
      },
      "outputs": [],
      "source": [
        "industry=[]\n",
        "for k in kk.keys():\n",
        "  info=kk[k]\n",
        "  for i in info:\n",
        "    indu=i['industries']\n",
        "    if len(indu)>0:\n",
        "      for j in indu:\n",
        "        industry.append(j)\n",
        "\n"
      ]
    },
    {
      "cell_type": "code",
      "execution_count": null,
      "metadata": {
        "colab": {
          "base_uri": "https://localhost:8080/"
        },
        "id": "mmEwN3d1o5om",
        "outputId": "c2d8dbc9-8d71-443c-dd4d-9a30589cff29"
      },
      "outputs": [
        {
          "name": "stdout",
          "output_type": "stream",
          "text": [
            "['Serverhosting', 'Technology']\n"
          ]
        }
      ],
      "source": [
        "list_of_industries=list(set(industry))\n",
        "print(list_of_industries)"
      ]
    },
    {
      "cell_type": "code",
      "execution_count": null,
      "metadata": {
        "colab": {
          "base_uri": "https://localhost:8080/",
          "height": 570
        },
        "id": "FidjLkFclJ4d",
        "outputId": "a25055f7-0968-4a5c-823a-9bc4d679a991"
      },
      "outputs": [
        {
          "data": {
            "text/html": [
              "\n",
              "  <div id=\"df-9ebcda72-9fc0-4abb-9c59-cb9d970a68ea\">\n",
              "    <div class=\"colab-df-container\">\n",
              "      <div>\n",
              "<style scoped>\n",
              "    .dataframe tbody tr th:only-of-type {\n",
              "        vertical-align: middle;\n",
              "    }\n",
              "\n",
              "    .dataframe tbody tr th {\n",
              "        vertical-align: top;\n",
              "    }\n",
              "\n",
              "    .dataframe thead th {\n",
              "        text-align: right;\n",
              "    }\n",
              "</style>\n",
              "<table border=\"1\" class=\"dataframe\">\n",
              "  <thead>\n",
              "    <tr style=\"text-align: right;\">\n",
              "      <th></th>\n",
              "      <th>id</th>\n",
              "      <th>indicator</th>\n",
              "      <th>type</th>\n",
              "      <th>created</th>\n",
              "      <th>content</th>\n",
              "      <th>title</th>\n",
              "      <th>description</th>\n",
              "      <th>expiration</th>\n",
              "      <th>is_active</th>\n",
              "      <th>role</th>\n",
              "    </tr>\n",
              "  </thead>\n",
              "  <tbody>\n",
              "    <tr>\n",
              "      <th>7208</th>\n",
              "      <td>2804418782</td>\n",
              "      <td>98.142.141.184</td>\n",
              "      <td>IPv4</td>\n",
              "      <td>2022-03-22T06:35:02</td>\n",
              "      <td></td>\n",
              "      <td>PHI: Brutforce ssh Login (5)</td>\n",
              "      <td></td>\n",
              "      <td>2022-07-11T00:00:00</td>\n",
              "      <td>1</td>\n",
              "      <td>bruteforce</td>\n",
              "    </tr>\n",
              "    <tr>\n",
              "      <th>54545</th>\n",
              "      <td>2804418782</td>\n",
              "      <td>98.142.141.184</td>\n",
              "      <td>IPv4</td>\n",
              "      <td>2022-04-02T02:24:15</td>\n",
              "      <td></td>\n",
              "      <td>SSH intrusion attempt from 98.142.141.184</td>\n",
              "      <td></td>\n",
              "      <td>2022-05-02T02:00:00</td>\n",
              "      <td>1</td>\n",
              "      <td>bruteforce</td>\n",
              "    </tr>\n",
              "    <tr>\n",
              "      <th>94187</th>\n",
              "      <td>2804418782</td>\n",
              "      <td>98.142.141.184</td>\n",
              "      <td>IPv4</td>\n",
              "      <td>2022-03-14T22:00:13</td>\n",
              "      <td></td>\n",
              "      <td>HoneyNet Event:98.142.141.184</td>\n",
              "      <td>HoneyNet Event: 98.142.141.184 connected: 7 ti...</td>\n",
              "      <td>2022-04-13T22:00:00</td>\n",
              "      <td>1</td>\n",
              "      <td>None</td>\n",
              "    </tr>\n",
              "    <tr>\n",
              "      <th>125743</th>\n",
              "      <td>2804418782</td>\n",
              "      <td>98.142.141.184</td>\n",
              "      <td>IPv4</td>\n",
              "      <td>2022-03-14T22:00:12</td>\n",
              "      <td></td>\n",
              "      <td>HoneyNet Event:98.142.141.184</td>\n",
              "      <td>HoneyNet Event: 98.142.141.184 connected: 7 ti...</td>\n",
              "      <td>2022-04-13T22:00:00</td>\n",
              "      <td>1</td>\n",
              "      <td>None</td>\n",
              "    </tr>\n",
              "    <tr>\n",
              "      <th>168179</th>\n",
              "      <td>2804418782</td>\n",
              "      <td>98.142.141.184</td>\n",
              "      <td>IPv4</td>\n",
              "      <td>2022-03-28T04:00:09</td>\n",
              "      <td></td>\n",
              "      <td>HoneyNet Event:98.142.141.184</td>\n",
              "      <td>HoneyNet Event: 98.142.141.184 connected: 83 t...</td>\n",
              "      <td>2022-04-27T04:00:00</td>\n",
              "      <td>1</td>\n",
              "      <td>None</td>\n",
              "    </tr>\n",
              "    <tr>\n",
              "      <th>207748</th>\n",
              "      <td>2804418782</td>\n",
              "      <td>98.142.141.184</td>\n",
              "      <td>IPv4</td>\n",
              "      <td>2022-03-14T22:00:17</td>\n",
              "      <td></td>\n",
              "      <td>HoneyNet Event:98.142.141.184</td>\n",
              "      <td>HoneyNet Event: 98.142.141.184 connected: 7 ti...</td>\n",
              "      <td>2022-04-13T22:00:00</td>\n",
              "      <td>1</td>\n",
              "      <td>None</td>\n",
              "    </tr>\n",
              "    <tr>\n",
              "      <th>224334</th>\n",
              "      <td>2804418782</td>\n",
              "      <td>98.142.141.184</td>\n",
              "      <td>IPv4</td>\n",
              "      <td>2022-03-14T22:00:14</td>\n",
              "      <td></td>\n",
              "      <td>HoneyNet Event:98.142.141.184</td>\n",
              "      <td>HoneyNet Event: 98.142.141.184 connected: 7 ti...</td>\n",
              "      <td>2022-04-13T22:00:00</td>\n",
              "      <td>1</td>\n",
              "      <td>None</td>\n",
              "    </tr>\n",
              "    <tr>\n",
              "      <th>287877</th>\n",
              "      <td>2804418782</td>\n",
              "      <td>98.142.141.184</td>\n",
              "      <td>IPv4</td>\n",
              "      <td>2022-04-07T00:00:14</td>\n",
              "      <td></td>\n",
              "      <td></td>\n",
              "      <td>SSH bruteforce authentication activity</td>\n",
              "      <td>2022-05-07T00:00:00</td>\n",
              "      <td>1</td>\n",
              "      <td>bruteforce</td>\n",
              "    </tr>\n",
              "  </tbody>\n",
              "</table>\n",
              "</div>\n",
              "      <button class=\"colab-df-convert\" onclick=\"convertToInteractive('df-9ebcda72-9fc0-4abb-9c59-cb9d970a68ea')\"\n",
              "              title=\"Convert this dataframe to an interactive table.\"\n",
              "              style=\"display:none;\">\n",
              "        \n",
              "  <svg xmlns=\"http://www.w3.org/2000/svg\" height=\"24px\"viewBox=\"0 0 24 24\"\n",
              "       width=\"24px\">\n",
              "    <path d=\"M0 0h24v24H0V0z\" fill=\"none\"/>\n",
              "    <path d=\"M18.56 5.44l.94 2.06.94-2.06 2.06-.94-2.06-.94-.94-2.06-.94 2.06-2.06.94zm-11 1L8.5 8.5l.94-2.06 2.06-.94-2.06-.94L8.5 2.5l-.94 2.06-2.06.94zm10 10l.94 2.06.94-2.06 2.06-.94-2.06-.94-.94-2.06-.94 2.06-2.06.94z\"/><path d=\"M17.41 7.96l-1.37-1.37c-.4-.4-.92-.59-1.43-.59-.52 0-1.04.2-1.43.59L10.3 9.45l-7.72 7.72c-.78.78-.78 2.05 0 2.83L4 21.41c.39.39.9.59 1.41.59.51 0 1.02-.2 1.41-.59l7.78-7.78 2.81-2.81c.8-.78.8-2.07 0-2.86zM5.41 20L4 18.59l7.72-7.72 1.47 1.35L5.41 20z\"/>\n",
              "  </svg>\n",
              "      </button>\n",
              "      \n",
              "  <style>\n",
              "    .colab-df-container {\n",
              "      display:flex;\n",
              "      flex-wrap:wrap;\n",
              "      gap: 12px;\n",
              "    }\n",
              "\n",
              "    .colab-df-convert {\n",
              "      background-color: #E8F0FE;\n",
              "      border: none;\n",
              "      border-radius: 50%;\n",
              "      cursor: pointer;\n",
              "      display: none;\n",
              "      fill: #1967D2;\n",
              "      height: 32px;\n",
              "      padding: 0 0 0 0;\n",
              "      width: 32px;\n",
              "    }\n",
              "\n",
              "    .colab-df-convert:hover {\n",
              "      background-color: #E2EBFA;\n",
              "      box-shadow: 0px 1px 2px rgba(60, 64, 67, 0.3), 0px 1px 3px 1px rgba(60, 64, 67, 0.15);\n",
              "      fill: #174EA6;\n",
              "    }\n",
              "\n",
              "    [theme=dark] .colab-df-convert {\n",
              "      background-color: #3B4455;\n",
              "      fill: #D2E3FC;\n",
              "    }\n",
              "\n",
              "    [theme=dark] .colab-df-convert:hover {\n",
              "      background-color: #434B5C;\n",
              "      box-shadow: 0px 1px 3px 1px rgba(0, 0, 0, 0.15);\n",
              "      filter: drop-shadow(0px 1px 2px rgba(0, 0, 0, 0.3));\n",
              "      fill: #FFFFFF;\n",
              "    }\n",
              "  </style>\n",
              "\n",
              "      <script>\n",
              "        const buttonEl =\n",
              "          document.querySelector('#df-9ebcda72-9fc0-4abb-9c59-cb9d970a68ea button.colab-df-convert');\n",
              "        buttonEl.style.display =\n",
              "          google.colab.kernel.accessAllowed ? 'block' : 'none';\n",
              "\n",
              "        async function convertToInteractive(key) {\n",
              "          const element = document.querySelector('#df-9ebcda72-9fc0-4abb-9c59-cb9d970a68ea');\n",
              "          const dataTable =\n",
              "            await google.colab.kernel.invokeFunction('convertToInteractive',\n",
              "                                                     [key], {});\n",
              "          if (!dataTable) return;\n",
              "\n",
              "          const docLinkHtml = 'Like what you see? Visit the ' +\n",
              "            '<a target=\"_blank\" href=https://colab.research.google.com/notebooks/data_table.ipynb>data table notebook</a>'\n",
              "            + ' to learn more about interactive tables.';\n",
              "          element.innerHTML = '';\n",
              "          dataTable['output_type'] = 'display_data';\n",
              "          await google.colab.output.renderOutput(dataTable, element);\n",
              "          const docLink = document.createElement('div');\n",
              "          docLink.innerHTML = docLinkHtml;\n",
              "          element.appendChild(docLink);\n",
              "        }\n",
              "      </script>\n",
              "    </div>\n",
              "  </div>\n",
              "  "
            ],
            "text/plain": [
              "                id       indicator  type              created content  \\\n",
              "7208    2804418782  98.142.141.184  IPv4  2022-03-22T06:35:02           \n",
              "54545   2804418782  98.142.141.184  IPv4  2022-04-02T02:24:15           \n",
              "94187   2804418782  98.142.141.184  IPv4  2022-03-14T22:00:13           \n",
              "125743  2804418782  98.142.141.184  IPv4  2022-03-14T22:00:12           \n",
              "168179  2804418782  98.142.141.184  IPv4  2022-03-28T04:00:09           \n",
              "207748  2804418782  98.142.141.184  IPv4  2022-03-14T22:00:17           \n",
              "224334  2804418782  98.142.141.184  IPv4  2022-03-14T22:00:14           \n",
              "287877  2804418782  98.142.141.184  IPv4  2022-04-07T00:00:14           \n",
              "\n",
              "                                            title  \\\n",
              "7208                 PHI: Brutforce ssh Login (5)   \n",
              "54545   SSH intrusion attempt from 98.142.141.184   \n",
              "94187               HoneyNet Event:98.142.141.184   \n",
              "125743              HoneyNet Event:98.142.141.184   \n",
              "168179              HoneyNet Event:98.142.141.184   \n",
              "207748              HoneyNet Event:98.142.141.184   \n",
              "224334              HoneyNet Event:98.142.141.184   \n",
              "287877                                              \n",
              "\n",
              "                                              description  \\\n",
              "7208                                                        \n",
              "54545                                                       \n",
              "94187   HoneyNet Event: 98.142.141.184 connected: 7 ti...   \n",
              "125743  HoneyNet Event: 98.142.141.184 connected: 7 ti...   \n",
              "168179  HoneyNet Event: 98.142.141.184 connected: 83 t...   \n",
              "207748  HoneyNet Event: 98.142.141.184 connected: 7 ti...   \n",
              "224334  HoneyNet Event: 98.142.141.184 connected: 7 ti...   \n",
              "287877             SSH bruteforce authentication activity   \n",
              "\n",
              "                 expiration  is_active        role  \n",
              "7208    2022-07-11T00:00:00          1  bruteforce  \n",
              "54545   2022-05-02T02:00:00          1  bruteforce  \n",
              "94187   2022-04-13T22:00:00          1        None  \n",
              "125743  2022-04-13T22:00:00          1        None  \n",
              "168179  2022-04-27T04:00:00          1        None  \n",
              "207748  2022-04-13T22:00:00          1        None  \n",
              "224334  2022-04-13T22:00:00          1        None  \n",
              "287877  2022-05-07T00:00:00          1  bruteforce  "
            ]
          },
          "execution_count": 37,
          "metadata": {},
          "output_type": "execute_result"
        }
      ],
      "source": [
        "gk.get_group('98.142.141.184')"
      ]
    },
    {
      "cell_type": "code",
      "execution_count": null,
      "metadata": {
        "id": "21BmsThz-1Ke"
      },
      "outputs": [],
      "source": [
        "import pandas as pd\n",
        "import pandas as np"
      ]
    },
    {
      "cell_type": "code",
      "execution_count": null,
      "metadata": {
        "colab": {
          "base_uri": "https://localhost:8080/",
          "height": 143
        },
        "id": "0VDNKwGj-5cD",
        "outputId": "3b33ba20-bc97-478c-af3f-a7a0f230844b"
      },
      "outputs": [
        {
          "data": {
            "text/html": [
              "\n",
              "  <div id=\"df-86dd3cb8-b667-40e7-a36c-bbf8ebee893f\">\n",
              "    <div class=\"colab-df-container\">\n",
              "      <div>\n",
              "<style scoped>\n",
              "    .dataframe tbody tr th:only-of-type {\n",
              "        vertical-align: middle;\n",
              "    }\n",
              "\n",
              "    .dataframe tbody tr th {\n",
              "        vertical-align: top;\n",
              "    }\n",
              "\n",
              "    .dataframe thead th {\n",
              "        text-align: right;\n",
              "    }\n",
              "</style>\n",
              "<table border=\"1\" class=\"dataframe\">\n",
              "  <thead>\n",
              "    <tr style=\"text-align: right;\">\n",
              "      <th></th>\n",
              "      <th>Name</th>\n",
              "      <th>Age</th>\n",
              "    </tr>\n",
              "  </thead>\n",
              "  <tbody>\n",
              "    <tr>\n",
              "      <th>0</th>\n",
              "      <td>tom</td>\n",
              "      <td>None</td>\n",
              "    </tr>\n",
              "    <tr>\n",
              "      <th>1</th>\n",
              "      <td>nick</td>\n",
              "      <td>None</td>\n",
              "    </tr>\n",
              "    <tr>\n",
              "      <th>2</th>\n",
              "      <td>juli</td>\n",
              "      <td>None</td>\n",
              "    </tr>\n",
              "  </tbody>\n",
              "</table>\n",
              "</div>\n",
              "      <button class=\"colab-df-convert\" onclick=\"convertToInteractive('df-86dd3cb8-b667-40e7-a36c-bbf8ebee893f')\"\n",
              "              title=\"Convert this dataframe to an interactive table.\"\n",
              "              style=\"display:none;\">\n",
              "        \n",
              "  <svg xmlns=\"http://www.w3.org/2000/svg\" height=\"24px\"viewBox=\"0 0 24 24\"\n",
              "       width=\"24px\">\n",
              "    <path d=\"M0 0h24v24H0V0z\" fill=\"none\"/>\n",
              "    <path d=\"M18.56 5.44l.94 2.06.94-2.06 2.06-.94-2.06-.94-.94-2.06-.94 2.06-2.06.94zm-11 1L8.5 8.5l.94-2.06 2.06-.94-2.06-.94L8.5 2.5l-.94 2.06-2.06.94zm10 10l.94 2.06.94-2.06 2.06-.94-2.06-.94-.94-2.06-.94 2.06-2.06.94z\"/><path d=\"M17.41 7.96l-1.37-1.37c-.4-.4-.92-.59-1.43-.59-.52 0-1.04.2-1.43.59L10.3 9.45l-7.72 7.72c-.78.78-.78 2.05 0 2.83L4 21.41c.39.39.9.59 1.41.59.51 0 1.02-.2 1.41-.59l7.78-7.78 2.81-2.81c.8-.78.8-2.07 0-2.86zM5.41 20L4 18.59l7.72-7.72 1.47 1.35L5.41 20z\"/>\n",
              "  </svg>\n",
              "      </button>\n",
              "      \n",
              "  <style>\n",
              "    .colab-df-container {\n",
              "      display:flex;\n",
              "      flex-wrap:wrap;\n",
              "      gap: 12px;\n",
              "    }\n",
              "\n",
              "    .colab-df-convert {\n",
              "      background-color: #E8F0FE;\n",
              "      border: none;\n",
              "      border-radius: 50%;\n",
              "      cursor: pointer;\n",
              "      display: none;\n",
              "      fill: #1967D2;\n",
              "      height: 32px;\n",
              "      padding: 0 0 0 0;\n",
              "      width: 32px;\n",
              "    }\n",
              "\n",
              "    .colab-df-convert:hover {\n",
              "      background-color: #E2EBFA;\n",
              "      box-shadow: 0px 1px 2px rgba(60, 64, 67, 0.3), 0px 1px 3px 1px rgba(60, 64, 67, 0.15);\n",
              "      fill: #174EA6;\n",
              "    }\n",
              "\n",
              "    [theme=dark] .colab-df-convert {\n",
              "      background-color: #3B4455;\n",
              "      fill: #D2E3FC;\n",
              "    }\n",
              "\n",
              "    [theme=dark] .colab-df-convert:hover {\n",
              "      background-color: #434B5C;\n",
              "      box-shadow: 0px 1px 3px 1px rgba(0, 0, 0, 0.15);\n",
              "      filter: drop-shadow(0px 1px 2px rgba(0, 0, 0, 0.3));\n",
              "      fill: #FFFFFF;\n",
              "    }\n",
              "  </style>\n",
              "\n",
              "      <script>\n",
              "        const buttonEl =\n",
              "          document.querySelector('#df-86dd3cb8-b667-40e7-a36c-bbf8ebee893f button.colab-df-convert');\n",
              "        buttonEl.style.display =\n",
              "          google.colab.kernel.accessAllowed ? 'block' : 'none';\n",
              "\n",
              "        async function convertToInteractive(key) {\n",
              "          const element = document.querySelector('#df-86dd3cb8-b667-40e7-a36c-bbf8ebee893f');\n",
              "          const dataTable =\n",
              "            await google.colab.kernel.invokeFunction('convertToInteractive',\n",
              "                                                     [key], {});\n",
              "          if (!dataTable) return;\n",
              "\n",
              "          const docLinkHtml = 'Like what you see? Visit the ' +\n",
              "            '<a target=\"_blank\" href=https://colab.research.google.com/notebooks/data_table.ipynb>data table notebook</a>'\n",
              "            + ' to learn more about interactive tables.';\n",
              "          element.innerHTML = '';\n",
              "          dataTable['output_type'] = 'display_data';\n",
              "          await google.colab.output.renderOutput(dataTable, element);\n",
              "          const docLink = document.createElement('div');\n",
              "          docLink.innerHTML = docLinkHtml;\n",
              "          element.appendChild(docLink);\n",
              "        }\n",
              "      </script>\n",
              "    </div>\n",
              "  </div>\n",
              "  "
            ],
            "text/plain": [
              "   Name   Age\n",
              "0   tom  None\n",
              "1  nick  None\n",
              "2  juli  None"
            ]
          },
          "execution_count": 1,
          "metadata": {},
          "output_type": "execute_result"
        }
      ],
      "source": [
        "\n",
        "# Import pandas library\n",
        "import pandas as pd\n",
        "\n",
        "# initialize list of lists\n",
        "data = [['tom', None], ['nick', None], ['juli', None]]\n",
        "\n",
        "# Create the pandas DataFrame\n",
        "dff = pd.DataFrame(data, columns = ['Name', 'Age'])\n",
        "\n",
        "# print dataframe.\n",
        "dff"
      ]
    },
    {
      "cell_type": "code",
      "execution_count": null,
      "metadata": {
        "colab": {
          "base_uri": "https://localhost:8080/"
        },
        "id": "gQhxAAfsAitM",
        "outputId": "5956cc6d-3b19-41e4-ce0c-c7c375356866"
      },
      "outputs": [
        {
          "name": "stdout",
          "output_type": "stream",
          "text": [
            "<class 'pandas.core.frame.DataFrame'>\n",
            "yes\n",
            "0\n"
          ]
        }
      ],
      "source": [
        "se=dff.loc[dff['Name'] == 'yas']\n",
        "print(type(se))\n",
        "se\n",
        "if len(se)==0:\n",
        "  print(\"yes\")\n",
        "\n",
        "print(len(se))\n",
        "# ss=se.iloc[0]['Age']\n",
        "# print(ss)"
      ]
    },
    {
      "cell_type": "code",
      "execution_count": null,
      "metadata": {
        "colab": {
          "base_uri": "https://localhost:8080/"
        },
        "id": "C59P_Cpr_4Jd",
        "outputId": "34600b2a-0644-4d83-f64d-0efb70b7ee71"
      },
      "outputs": [
        {
          "name": "stdout",
          "output_type": "stream",
          "text": [
            "{'a': [None]}\n",
            "yes\n"
          ]
        }
      ],
      "source": [
        "dic={'a':[]}\n",
        "dic['a'].append(ss)\n",
        "print(dic)\n",
        "if dic['a'][0]==None:\n",
        "  print(\"yes\")"
      ]
    },
    {
      "cell_type": "code",
      "execution_count": null,
      "metadata": {
        "id": "dIBdkqap9D4h"
      },
      "outputs": [],
      "source": [
        "print(kk)"
      ]
    },
    {
      "cell_type": "code",
      "execution_count": null,
      "metadata": {
        "id": "A4SBCDgA8g48"
      },
      "outputs": [],
      "source": [
        "lstt={key: [] for key in unq}\n",
        "print(lstt)"
      ]
    },
    {
      "cell_type": "code",
      "execution_count": null,
      "metadata": {
        "id": "2GIcuUA28ltQ"
      },
      "outputs": [],
      "source": [
        "for k in kk.keys():\n",
        "  info=kk[k]\n",
        "  # lst=[]\n",
        "  for i in info:\n",
        "    creat=i['created']\n",
        "    # lst.append(creat)\n",
        "    lstt[k].append(creat)\n",
        "print(lstt)"
      ]
    },
    {
      "cell_type": "code",
      "execution_count": null,
      "metadata": {
        "colab": {
          "base_uri": "https://localhost:8080/"
        },
        "id": "cAOV_5HXyHKv",
        "outputId": "a1725bc0-6d41-42bc-ef7c-9a6e01e6bb02"
      },
      "outputs": [
        {
          "output_type": "stream",
          "name": "stdout",
          "text": [
            "Requirement already satisfied: tqdm in /usr/local/lib/python3.7/dist-packages (4.64.0)\n"
          ]
        }
      ],
      "source": [
        "pip install tqdm"
      ]
    },
    {
      "cell_type": "code",
      "execution_count": null,
      "metadata": {
        "id": "D6xkGgRCyRIg"
      },
      "outputs": [],
      "source": [
        "from tqdm.notebook import tqdm_notebook"
      ]
    },
    {
      "cell_type": "code",
      "execution_count": null,
      "metadata": {
        "id": "LmrSUf4FyZE4"
      },
      "outputs": [],
      "source": [
        "a=['a','b','d','d','h','m','y']\n",
        "\n",
        "for i in tqdm_notebook(a):\n",
        "  print(i)\n",
        ""
      ]
    }
  ],
  "metadata": {
    "colab": {
      "provenance": [],
      "authorship_tag": "ABX9TyNLnkXK5tgqSHsmI1qO/dNv",
      "include_colab_link": true
    },
    "kernelspec": {
      "display_name": "Python 3",
      "name": "python3"
    },
    "language_info": {
      "name": "python"
    },
    "widgets": {
      "application/vnd.jupyter.widget-state+json": {
        "165d84abccda4d3b9eca8a318ea9bbdb": {
          "model_module": "@jupyter-widgets/controls",
          "model_name": "HBoxModel",
          "model_module_version": "1.5.0",
          "state": {
            "_dom_classes": [],
            "_model_module": "@jupyter-widgets/controls",
            "_model_module_version": "1.5.0",
            "_model_name": "HBoxModel",
            "_view_count": null,
            "_view_module": "@jupyter-widgets/controls",
            "_view_module_version": "1.5.0",
            "_view_name": "HBoxView",
            "box_style": "",
            "children": [
              "IPY_MODEL_3eef443575004f3bbb025fdab74720cf",
              "IPY_MODEL_1208328cd94942e4be5755b4a8d3ec48",
              "IPY_MODEL_237668b99346403eb90b376de86ff45d"
            ],
            "layout": "IPY_MODEL_a7d1339208c24a07a1f04e2badaed3ad"
          }
        },
        "3eef443575004f3bbb025fdab74720cf": {
          "model_module": "@jupyter-widgets/controls",
          "model_name": "HTMLModel",
          "model_module_version": "1.5.0",
          "state": {
            "_dom_classes": [],
            "_model_module": "@jupyter-widgets/controls",
            "_model_module_version": "1.5.0",
            "_model_name": "HTMLModel",
            "_view_count": null,
            "_view_module": "@jupyter-widgets/controls",
            "_view_module_version": "1.5.0",
            "_view_name": "HTMLView",
            "description": "",
            "description_tooltip": null,
            "layout": "IPY_MODEL_2ea0446d92174b96a7d746efa7afbed4",
            "placeholder": "​",
            "style": "IPY_MODEL_5686805359fc447a8a064e9dc2c7b5e5",
            "value": "100%"
          }
        },
        "1208328cd94942e4be5755b4a8d3ec48": {
          "model_module": "@jupyter-widgets/controls",
          "model_name": "FloatProgressModel",
          "model_module_version": "1.5.0",
          "state": {
            "_dom_classes": [],
            "_model_module": "@jupyter-widgets/controls",
            "_model_module_version": "1.5.0",
            "_model_name": "FloatProgressModel",
            "_view_count": null,
            "_view_module": "@jupyter-widgets/controls",
            "_view_module_version": "1.5.0",
            "_view_name": "ProgressView",
            "bar_style": "success",
            "description": "",
            "description_tooltip": null,
            "layout": "IPY_MODEL_67fa5f24641046b7afb8a8a6bd3dec65",
            "max": 2,
            "min": 0,
            "orientation": "horizontal",
            "style": "IPY_MODEL_9f0ff7477673497390c5b48e914a75c8",
            "value": 2
          }
        },
        "237668b99346403eb90b376de86ff45d": {
          "model_module": "@jupyter-widgets/controls",
          "model_name": "HTMLModel",
          "model_module_version": "1.5.0",
          "state": {
            "_dom_classes": [],
            "_model_module": "@jupyter-widgets/controls",
            "_model_module_version": "1.5.0",
            "_model_name": "HTMLModel",
            "_view_count": null,
            "_view_module": "@jupyter-widgets/controls",
            "_view_module_version": "1.5.0",
            "_view_name": "HTMLView",
            "description": "",
            "description_tooltip": null,
            "layout": "IPY_MODEL_044fb3feb9364b3b96c582434ec3e33b",
            "placeholder": "​",
            "style": "IPY_MODEL_e5a4f847f2334efca48a52f9781073cb",
            "value": " 2/2 [00:02&lt;00:00,  1.11s/it]"
          }
        },
        "a7d1339208c24a07a1f04e2badaed3ad": {
          "model_module": "@jupyter-widgets/base",
          "model_name": "LayoutModel",
          "model_module_version": "1.2.0",
          "state": {
            "_model_module": "@jupyter-widgets/base",
            "_model_module_version": "1.2.0",
            "_model_name": "LayoutModel",
            "_view_count": null,
            "_view_module": "@jupyter-widgets/base",
            "_view_module_version": "1.2.0",
            "_view_name": "LayoutView",
            "align_content": null,
            "align_items": null,
            "align_self": null,
            "border": null,
            "bottom": null,
            "display": null,
            "flex": null,
            "flex_flow": null,
            "grid_area": null,
            "grid_auto_columns": null,
            "grid_auto_flow": null,
            "grid_auto_rows": null,
            "grid_column": null,
            "grid_gap": null,
            "grid_row": null,
            "grid_template_areas": null,
            "grid_template_columns": null,
            "grid_template_rows": null,
            "height": null,
            "justify_content": null,
            "justify_items": null,
            "left": null,
            "margin": null,
            "max_height": null,
            "max_width": null,
            "min_height": null,
            "min_width": null,
            "object_fit": null,
            "object_position": null,
            "order": null,
            "overflow": null,
            "overflow_x": null,
            "overflow_y": null,
            "padding": null,
            "right": null,
            "top": null,
            "visibility": null,
            "width": null
          }
        },
        "2ea0446d92174b96a7d746efa7afbed4": {
          "model_module": "@jupyter-widgets/base",
          "model_name": "LayoutModel",
          "model_module_version": "1.2.0",
          "state": {
            "_model_module": "@jupyter-widgets/base",
            "_model_module_version": "1.2.0",
            "_model_name": "LayoutModel",
            "_view_count": null,
            "_view_module": "@jupyter-widgets/base",
            "_view_module_version": "1.2.0",
            "_view_name": "LayoutView",
            "align_content": null,
            "align_items": null,
            "align_self": null,
            "border": null,
            "bottom": null,
            "display": null,
            "flex": null,
            "flex_flow": null,
            "grid_area": null,
            "grid_auto_columns": null,
            "grid_auto_flow": null,
            "grid_auto_rows": null,
            "grid_column": null,
            "grid_gap": null,
            "grid_row": null,
            "grid_template_areas": null,
            "grid_template_columns": null,
            "grid_template_rows": null,
            "height": null,
            "justify_content": null,
            "justify_items": null,
            "left": null,
            "margin": null,
            "max_height": null,
            "max_width": null,
            "min_height": null,
            "min_width": null,
            "object_fit": null,
            "object_position": null,
            "order": null,
            "overflow": null,
            "overflow_x": null,
            "overflow_y": null,
            "padding": null,
            "right": null,
            "top": null,
            "visibility": null,
            "width": null
          }
        },
        "5686805359fc447a8a064e9dc2c7b5e5": {
          "model_module": "@jupyter-widgets/controls",
          "model_name": "DescriptionStyleModel",
          "model_module_version": "1.5.0",
          "state": {
            "_model_module": "@jupyter-widgets/controls",
            "_model_module_version": "1.5.0",
            "_model_name": "DescriptionStyleModel",
            "_view_count": null,
            "_view_module": "@jupyter-widgets/base",
            "_view_module_version": "1.2.0",
            "_view_name": "StyleView",
            "description_width": ""
          }
        },
        "67fa5f24641046b7afb8a8a6bd3dec65": {
          "model_module": "@jupyter-widgets/base",
          "model_name": "LayoutModel",
          "model_module_version": "1.2.0",
          "state": {
            "_model_module": "@jupyter-widgets/base",
            "_model_module_version": "1.2.0",
            "_model_name": "LayoutModel",
            "_view_count": null,
            "_view_module": "@jupyter-widgets/base",
            "_view_module_version": "1.2.0",
            "_view_name": "LayoutView",
            "align_content": null,
            "align_items": null,
            "align_self": null,
            "border": null,
            "bottom": null,
            "display": null,
            "flex": null,
            "flex_flow": null,
            "grid_area": null,
            "grid_auto_columns": null,
            "grid_auto_flow": null,
            "grid_auto_rows": null,
            "grid_column": null,
            "grid_gap": null,
            "grid_row": null,
            "grid_template_areas": null,
            "grid_template_columns": null,
            "grid_template_rows": null,
            "height": null,
            "justify_content": null,
            "justify_items": null,
            "left": null,
            "margin": null,
            "max_height": null,
            "max_width": null,
            "min_height": null,
            "min_width": null,
            "object_fit": null,
            "object_position": null,
            "order": null,
            "overflow": null,
            "overflow_x": null,
            "overflow_y": null,
            "padding": null,
            "right": null,
            "top": null,
            "visibility": null,
            "width": null
          }
        },
        "9f0ff7477673497390c5b48e914a75c8": {
          "model_module": "@jupyter-widgets/controls",
          "model_name": "ProgressStyleModel",
          "model_module_version": "1.5.0",
          "state": {
            "_model_module": "@jupyter-widgets/controls",
            "_model_module_version": "1.5.0",
            "_model_name": "ProgressStyleModel",
            "_view_count": null,
            "_view_module": "@jupyter-widgets/base",
            "_view_module_version": "1.2.0",
            "_view_name": "StyleView",
            "bar_color": null,
            "description_width": ""
          }
        },
        "044fb3feb9364b3b96c582434ec3e33b": {
          "model_module": "@jupyter-widgets/base",
          "model_name": "LayoutModel",
          "model_module_version": "1.2.0",
          "state": {
            "_model_module": "@jupyter-widgets/base",
            "_model_module_version": "1.2.0",
            "_model_name": "LayoutModel",
            "_view_count": null,
            "_view_module": "@jupyter-widgets/base",
            "_view_module_version": "1.2.0",
            "_view_name": "LayoutView",
            "align_content": null,
            "align_items": null,
            "align_self": null,
            "border": null,
            "bottom": null,
            "display": null,
            "flex": null,
            "flex_flow": null,
            "grid_area": null,
            "grid_auto_columns": null,
            "grid_auto_flow": null,
            "grid_auto_rows": null,
            "grid_column": null,
            "grid_gap": null,
            "grid_row": null,
            "grid_template_areas": null,
            "grid_template_columns": null,
            "grid_template_rows": null,
            "height": null,
            "justify_content": null,
            "justify_items": null,
            "left": null,
            "margin": null,
            "max_height": null,
            "max_width": null,
            "min_height": null,
            "min_width": null,
            "object_fit": null,
            "object_position": null,
            "order": null,
            "overflow": null,
            "overflow_x": null,
            "overflow_y": null,
            "padding": null,
            "right": null,
            "top": null,
            "visibility": null,
            "width": null
          }
        },
        "e5a4f847f2334efca48a52f9781073cb": {
          "model_module": "@jupyter-widgets/controls",
          "model_name": "DescriptionStyleModel",
          "model_module_version": "1.5.0",
          "state": {
            "_model_module": "@jupyter-widgets/controls",
            "_model_module_version": "1.5.0",
            "_model_name": "DescriptionStyleModel",
            "_view_count": null,
            "_view_module": "@jupyter-widgets/base",
            "_view_module_version": "1.2.0",
            "_view_name": "StyleView",
            "description_width": ""
          }
        }
      }
    }
  },
  "nbformat": 4,
  "nbformat_minor": 0
}